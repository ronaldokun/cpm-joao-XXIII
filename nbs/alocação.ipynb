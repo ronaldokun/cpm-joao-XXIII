{
 "cells": [
  {
   "cell_type": "code",
   "execution_count": 1,
   "metadata": {
    "ExecuteTime": {
     "end_time": "2019-08-28T21:07:10.967981Z",
     "start_time": "2019-08-28T21:07:10.611897Z"
    }
   },
   "outputs": [],
   "source": [
    "from context import cpm\n",
    "\n",
    "import cpm.functions as functions\n",
    "from cpm.variables import *\n",
    "import cpm.agenda as agenda\n",
    "\n",
    "# Every time we change a module they are reload before executing \n",
    "%reload_ext autoreload\n",
    "%autoreload 2\n",
    "\n",
    "AULA = '7'"
   ]
  },
  {
   "cell_type": "markdown",
   "metadata": {},
   "source": [
    "### Carrega a alocação\n",
    "Itera todas as planilhas de feedback, carrega a aba de alocação e formata de maneira tabular"
   ]
  },
  {
   "cell_type": "code",
   "execution_count": 3,
   "metadata": {
    "ExecuteTime": {
     "end_time": "2019-08-28T21:13:23.558835Z",
     "start_time": "2019-08-28T21:12:24.212812Z"
    }
   },
   "outputs": [
    {
     "name": "stdout",
     "output_type": "stream",
     "text": [
      "Carregando Alocação: A1\n",
      "Carregando Alocação: A2\n",
      "Carregando Alocação: B1\n",
      "Carregando Alocação: B2\n",
      "Carregando Alocação: C1\n",
      "Carregando Alocação: C2\n",
      "Carregando Alocação: D1\n",
      "Carregando Alocação: D2\n",
      "Carregando Alocação: E1\n",
      "Carregando Alocação: E2\n",
      "Carregando Alocação: F\n",
      "Carregando Alocação: G1\n",
      "Carregando Alocação: G2\n",
      "Carregando Alocação: H\n",
      "Carregando Alocação: I\n",
      "Carregando Alocação: J\n",
      "Carregando Alocação: EA\n"
     ]
    },
    {
     "data": {
      "text/html": [
       "<div>\n",
       "<style scoped>\n",
       "    .dataframe tbody tr th:only-of-type {\n",
       "        vertical-align: middle;\n",
       "    }\n",
       "\n",
       "    .dataframe tbody tr th {\n",
       "        vertical-align: top;\n",
       "    }\n",
       "\n",
       "    .dataframe thead th {\n",
       "        text-align: right;\n",
       "    }\n",
       "</style>\n",
       "<table border=\"1\" class=\"dataframe\">\n",
       "  <thead>\n",
       "    <tr style=\"text-align: right;\">\n",
       "      <th></th>\n",
       "      <th>Data</th>\n",
       "      <th>Aula</th>\n",
       "      <th>Nome</th>\n",
       "    </tr>\n",
       "  </thead>\n",
       "  <tbody>\n",
       "    <tr>\n",
       "      <th>0</th>\n",
       "      <td>2019-08-04</td>\n",
       "      <td>1</td>\n",
       "      <td>Jaqueline Dias Conde de Carvalho</td>\n",
       "    </tr>\n",
       "    <tr>\n",
       "      <th>1</th>\n",
       "      <td>2019-08-04</td>\n",
       "      <td>1</td>\n",
       "      <td>Fabiana Guimaraes Canello</td>\n",
       "    </tr>\n",
       "    <tr>\n",
       "      <th>2</th>\n",
       "      <td>2019-08-04</td>\n",
       "      <td>1</td>\n",
       "      <td>Daniela Franco</td>\n",
       "    </tr>\n",
       "    <tr>\n",
       "      <th>3</th>\n",
       "      <td>2019-08-04</td>\n",
       "      <td>1</td>\n",
       "      <td>Melissa Mara Sferra</td>\n",
       "    </tr>\n",
       "    <tr>\n",
       "      <th>5</th>\n",
       "      <td>2019-08-04</td>\n",
       "      <td>1</td>\n",
       "      <td>Carolina Maruyama</td>\n",
       "    </tr>\n",
       "  </tbody>\n",
       "</table>\n",
       "</div>"
      ],
      "text/plain": [
       "         Data Aula                              Nome\n",
       "0  2019-08-04    1  Jaqueline Dias Conde de Carvalho\n",
       "1  2019-08-04    1         Fabiana Guimaraes Canello\n",
       "2  2019-08-04    1                    Daniela Franco\n",
       "3  2019-08-04    1               Melissa Mara Sferra\n",
       "5  2019-08-04    1                 Carolina Maruyama"
      ]
     },
     "execution_count": 3,
     "metadata": {},
     "output_type": "execute_result"
    }
   ],
   "source": [
    "alocacao = agenda.carrega_alocacao().dropna(subset=[\"Nome\", \"Aula\"])\n",
    "alocacao.head()"
   ]
  },
  {
   "cell_type": "markdown",
   "metadata": {},
   "source": [
    "Este método `.dropna(subset=[\"Nome\", \"Aula\"])` ignora as linhas com a aula ou nome vazios"
   ]
  },
  {
   "cell_type": "markdown",
   "metadata": {
    "ExecuteTime": {
     "end_time": "2019-08-28T20:54:13.051083Z",
     "start_time": "2019-08-28T20:54:13.049107Z"
    }
   },
   "source": [
    "### Lê a agenda para verificar em qual linha termina"
   ]
  },
  {
   "cell_type": "code",
   "execution_count": 4,
   "metadata": {
    "ExecuteTime": {
     "end_time": "2019-08-28T21:13:26.681728Z",
     "start_time": "2019-08-28T21:13:24.010469Z"
    }
   },
   "outputs": [
    {
     "data": {
      "text/html": [
       "<div>\n",
       "<style scoped>\n",
       "    .dataframe tbody tr th:only-of-type {\n",
       "        vertical-align: middle;\n",
       "    }\n",
       "\n",
       "    .dataframe tbody tr th {\n",
       "        vertical-align: top;\n",
       "    }\n",
       "\n",
       "    .dataframe thead th {\n",
       "        text-align: right;\n",
       "    }\n",
       "</style>\n",
       "<table border=\"1\" class=\"dataframe\">\n",
       "  <thead>\n",
       "    <tr style=\"text-align: right;\">\n",
       "      <th></th>\n",
       "      <th>Data</th>\n",
       "      <th>Aula</th>\n",
       "      <th>Nome</th>\n",
       "      <th>Turma</th>\n",
       "      <th>Telefone</th>\n",
       "      <th>Email Pessoal</th>\n",
       "      <th>Email CPM</th>\n",
       "      <th>Presente?</th>\n",
       "    </tr>\n",
       "  </thead>\n",
       "  <tbody>\n",
       "    <tr>\n",
       "      <th>265</th>\n",
       "      <td>2019-09-22</td>\n",
       "      <td>6</td>\n",
       "      <td>Jorge dos Santos Segundo</td>\n",
       "      <td>I</td>\n",
       "      <td>(11) 950667292</td>\n",
       "      <td>se_gundo@hotmail.com</td>\n",
       "      <td>jorge.segundo@cidadaopromundo.org</td>\n",
       "      <td>False</td>\n",
       "    </tr>\n",
       "    <tr>\n",
       "      <th>266</th>\n",
       "      <td>2019-09-22</td>\n",
       "      <td>6</td>\n",
       "      <td>Natalia de Souza Girnius</td>\n",
       "      <td>I</td>\n",
       "      <td>(11) 995604524</td>\n",
       "      <td>nagirnius@gmail.con</td>\n",
       "      <td>natalia.girnius@cidadaopromundo.org.br</td>\n",
       "      <td>False</td>\n",
       "    </tr>\n",
       "    <tr>\n",
       "      <th>267</th>\n",
       "      <td>2019-09-22</td>\n",
       "      <td>6</td>\n",
       "      <td>Helena Cristina de Souza Carias</td>\n",
       "      <td>J</td>\n",
       "      <td>(11) 989764475</td>\n",
       "      <td>csc.helena@gmail.com</td>\n",
       "      <td>helena.carias@cidadaopromundo.org</td>\n",
       "      <td>False</td>\n",
       "    </tr>\n",
       "    <tr>\n",
       "      <th>268</th>\n",
       "      <td>2019-09-22</td>\n",
       "      <td>6</td>\n",
       "      <td>Marina Nunes Witt</td>\n",
       "      <td>J</td>\n",
       "      <td>(11) 98965-3835</td>\n",
       "      <td>ma.witt@gmail.com</td>\n",
       "      <td>marina.witt@cidadaopromundo.org</td>\n",
       "      <td>False</td>\n",
       "    </tr>\n",
       "    <tr>\n",
       "      <th>269</th>\n",
       "      <td>2019-09-22</td>\n",
       "      <td>6</td>\n",
       "      <td>Felipe Hirata Quintino</td>\n",
       "      <td>G2</td>\n",
       "      <td>(11) 983899836</td>\n",
       "      <td>felipequintino@yahoo.com.br</td>\n",
       "      <td>felipe.quintino@cidadaopromundo.org</td>\n",
       "      <td>False</td>\n",
       "    </tr>\n",
       "  </tbody>\n",
       "</table>\n",
       "</div>"
      ],
      "text/plain": [
       "           Data Aula                             Nome Turma         Telefone  \\\n",
       "265  2019-09-22    6         Jorge dos Santos Segundo     I   (11) 950667292   \n",
       "266  2019-09-22    6         Natalia de Souza Girnius     I   (11) 995604524   \n",
       "267  2019-09-22    6  Helena Cristina de Souza Carias     J   (11) 989764475   \n",
       "268  2019-09-22    6                Marina Nunes Witt     J  (11) 98965-3835   \n",
       "269  2019-09-22    6           Felipe Hirata Quintino    G2   (11) 983899836   \n",
       "\n",
       "                   Email Pessoal                               Email CPM  \\\n",
       "265         se_gundo@hotmail.com       jorge.segundo@cidadaopromundo.org   \n",
       "266          nagirnius@gmail.con  natalia.girnius@cidadaopromundo.org.br   \n",
       "267         csc.helena@gmail.com       helena.carias@cidadaopromundo.org   \n",
       "268            ma.witt@gmail.com         marina.witt@cidadaopromundo.org   \n",
       "269  felipequintino@yahoo.com.br     felipe.quintino@cidadaopromundo.org   \n",
       "\n",
       "    Presente?  \n",
       "265     False  \n",
       "266     False  \n",
       "267     False  \n",
       "268     False  \n",
       "269     False  "
      ]
     },
     "execution_count": 4,
     "metadata": {},
     "output_type": "execute_result"
    }
   ],
   "source": [
    "agenda_joao = functions.load_df_from_sheet(ALOCACAO, \"Agenda\").dropna(subset=[\"Nome\"])\n",
    "agenda_joao.tail()"
   ]
  },
  {
   "cell_type": "code",
   "execution_count": 5,
   "metadata": {
    "ExecuteTime": {
     "end_time": "2019-08-28T21:13:27.284917Z",
     "start_time": "2019-08-28T21:13:27.097058Z"
    }
   },
   "outputs": [
    {
     "data": {
      "text/plain": [
       "(270, 8)"
      ]
     },
     "execution_count": 5,
     "metadata": {},
     "output_type": "execute_result"
    }
   ],
   "source": [
    "agenda_joao.shape"
   ]
  },
  {
   "cell_type": "code",
   "execution_count": 6,
   "metadata": {
    "ExecuteTime": {
     "end_time": "2019-08-28T21:13:27.926187Z",
     "start_time": "2019-08-28T21:13:27.749972Z"
    }
   },
   "outputs": [],
   "source": [
    "linha_vazia = agenda_joao.shape[0] + 2"
   ]
  },
  {
   "cell_type": "markdown",
   "metadata": {},
   "source": [
    "### Filtra a alocação somente para a aula atual"
   ]
  },
  {
   "cell_type": "code",
   "execution_count": 7,
   "metadata": {
    "ExecuteTime": {
     "end_time": "2019-08-28T21:13:28.497079Z",
     "start_time": "2019-08-28T21:13:28.320318Z"
    }
   },
   "outputs": [],
   "source": [
    "alocacao = alocacao[alocacao[\"Aula\"] == AULA]"
   ]
  },
  {
   "cell_type": "code",
   "execution_count": 8,
   "metadata": {
    "ExecuteTime": {
     "end_time": "2019-08-28T21:13:35.796670Z",
     "start_time": "2019-08-28T21:13:32.833940Z"
    }
   },
   "outputs": [],
   "source": [
    "functions.salva_aba_no_drive(alocacao, ALOCACAO, \"Agenda\", row=linha_vazia)"
   ]
  },
  {
   "cell_type": "code",
   "execution_count": null,
   "metadata": {
    "lines_to_next_cell": 2
   },
   "outputs": [],
   "source": []
  }
 ],
 "metadata": {
  "jupytext": {
   "encoding": "# -*- coding: utf-8 -*-",
   "text_representation": {
    "extension": ".py",
    "format_name": "light",
    "format_version": "1.4",
    "jupytext_version": "1.2.3"
   }
  },
  "kernelspec": {
   "display_name": "Python [conda env:cpm]",
   "language": "python",
   "name": "conda-env-cpm-py"
  },
  "language_info": {
   "codemirror_mode": {
    "name": "ipython",
    "version": 3
   },
   "file_extension": ".py",
   "mimetype": "text/x-python",
   "name": "python",
   "nbconvert_exporter": "python",
   "pygments_lexer": "ipython3",
   "version": "3.7.2"
  },
  "nbTranslate": {
   "displayLangs": [
    "*"
   ],
   "hotkey": "alt-t",
   "langInMainMenu": true,
   "sourceLang": "en",
   "targetLang": "pt",
   "useGoogleTranslate": true
  },
  "toc": {
   "base_numbering": 1,
   "nav_menu": {},
   "number_sections": true,
   "sideBar": true,
   "skip_h1_title": false,
   "title_cell": "Table of Contents",
   "title_sidebar": "Contents",
   "toc_cell": false,
   "toc_position": {},
   "toc_section_display": true,
   "toc_window_display": false
  },
  "varInspector": {
   "cols": {
    "lenName": 16,
    "lenType": 16,
    "lenVar": 40
   },
   "kernels_config": {
    "python": {
     "delete_cmd_postfix": "",
     "delete_cmd_prefix": "del ",
     "library": "var_list.py",
     "varRefreshCmd": "print(var_dic_list())"
    },
    "r": {
     "delete_cmd_postfix": ") ",
     "delete_cmd_prefix": "rm(",
     "library": "var_list.r",
     "varRefreshCmd": "cat(var_dic_list()) "
    }
   },
   "types_to_exclude": [
    "module",
    "function",
    "builtin_function_or_method",
    "instance",
    "_Feature"
   ],
   "window_display": true
  }
 },
 "nbformat": 4,
 "nbformat_minor": 2
}
