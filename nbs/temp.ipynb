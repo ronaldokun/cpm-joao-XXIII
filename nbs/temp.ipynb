{
 "cells": [
  {
   "cell_type": "code",
   "execution_count": null,
   "metadata": {},
   "outputs": [],
   "source": [
    "import os\n",
    "import sys\n",
    "\n",
    "sys.path.insert(0, os.path.abspath(os.path.join(os.path.dirname('__file__'), '..')))\n",
    "\n",
    "import pandas as pd\n",
    "\n",
    "from pathlib import Path\n",
    "\n",
    "from cpm import functions as f\n",
    "\n",
    "import gspread\n",
    "\n",
    "from gspread import *\n",
    "\n",
    "import gspread_dataframe as gs_df\n",
    "\n",
    "#import openpyxl as xl\n",
    "\n",
    "from IPython.display import display\n",
    "\n",
    "# Every time we change a module they are reload before executing \n",
    "%reload_ext autoreload\n",
    "%autoreload 2"
   ]
  },
  {
   "cell_type": "markdown",
   "metadata": {},
   "source": [
    "## Load Workbooks"
   ]
  },
  {
   "cell_type": "code",
   "execution_count": null,
   "metadata": {},
   "outputs": [],
   "source": [
    "planilhas = f.load_workbooks_from_drive()"
   ]
  },
  {
   "cell_type": "code",
   "execution_count": null,
   "metadata": {},
   "outputs": [],
   "source": [
    "planilhas"
   ]
  },
  {
   "cell_type": "code",
   "execution_count": null,
   "metadata": {},
   "outputs": [],
   "source": [
    "turmas = {k:v for k,v in planilhas.items() if '2019-1S' in k}"
   ]
  },
  {
   "cell_type": "code",
   "execution_count": null,
   "metadata": {},
   "outputs": [],
   "source": [
    "turmas = f.load_turmas()"
   ]
  },
  {
   "cell_type": "code",
   "execution_count": null,
   "metadata": {},
   "outputs": [],
   "source": [
    "turmas"
   ]
  },
  {
   "cell_type": "code",
   "execution_count": 12,
   "metadata": {
    "lines_to_next_cell": 2
   },
   "outputs": [
    {
     "name": "stdout",
     "output_type": "stream",
     "text": [
      "A1\n",
      "A2\n",
      "B1\n",
      "B2\n",
      "C1\n",
      "C2\n",
      "D1\n",
      "D2\n",
      "E1\n",
      "E2\n",
      "F1\n",
      "F2\n",
      "G\n",
      "H\n",
      "I\n",
      "J\n",
      "Teens2\n"
     ]
    }
   ],
   "source": [
    "for title, sh in turmas.items():    \n",
    "    print(title)\n",
    "    wb = sh.worksheet(\"Lista de Presença\")\n",
    "    cells_1, cells_2 = wb.range(\"AP4:AP28\"), wb.range(\"AQ4:AQ28\")\n",
    "    cells = wb.range(\"AP4:AQ28\")\n",
    "    for i, (c1, c2) in enumerate(zip(cells_1, cells_2), 4):\n",
    "        c1.value = fr'=if(AO{i}=\"Absent\", \"Undone\", \"\")'\n",
    "        c2.value = fr'=if(AO{i}=\"Absent\", 0, \"\")'\n",
    "    #wb.update_cell(3,2, r\"='Parâmetros'!$A$14\")\n",
    "    #wb.update_cell(6,2, r\"=Class_Plan!$F$13\")\n",
    "    wb.update_cells(cells_1, \"USER_ENTERED\")\n",
    "    wb.update_cells(cells_2, \"USER_ENTERED\")\n",
    "    \n",
    "#while i < 421:\n",
    "#    wb.update_cell(i, 1, fr\"=image(Info_Students!$K${j})\")\n",
    "#    i += 18\n",
    "#    j += 1"
   ]
  },
  {
   "cell_type": "code",
   "execution_count": null,
   "metadata": {},
   "outputs": [],
   "source": []
  },
  {
   "cell_type": "code",
   "execution_count": null,
   "metadata": {},
   "outputs": [],
   "source": [
    "config = planilhas['Configuração_Planilhas'].worksheet(\"Class_Plan\")"
   ]
  },
  {
   "cell_type": "code",
   "execution_count": null,
   "metadata": {},
   "outputs": [],
   "source": [
    "i = 6"
   ]
  },
  {
   "cell_type": "code",
   "execution_count": null,
   "metadata": {},
   "outputs": [],
   "source": [
    "wb = sh.worksheet(f'Aula {i}')\n",
    "\n",
    "aula = wb.get_all_values()\n",
    "\n",
    "Theme = aula[5][1]\n",
    "\n",
    "config.update_cell(i, 1, i)\n",
    "\n",
    "config.update_cell(i, 6 , Theme)\n",
    "\n",
    "i += 1"
   ]
  },
  {
   "cell_type": "code",
   "execution_count": null,
   "metadata": {},
   "outputs": [],
   "source": [
    "aula[-3][0].split(\"\\n\")[1][23:54]"
   ]
  },
  {
   "cell_type": "markdown",
   "metadata": {},
   "source": [
    "## ABA Parâmetros"
   ]
  },
  {
   "cell_type": "code",
   "execution_count": null,
   "metadata": {},
   "outputs": [],
   "source": [
    "param = {}\n",
    "for title, wb in turmas.items():\n",
    "    param[title] = f.load_sheet_from_workbook(wb, \"Voluntarios_Geral\", skiprows=1)"
   ]
  },
  {
   "cell_type": "markdown",
   "metadata": {},
   "source": [
    "### Exportar Configurações do Semestre"
   ]
  },
  {
   "cell_type": "code",
   "execution_count": null,
   "metadata": {
    "lines_to_next_cell": 2
   },
   "outputs": [],
   "source": [
    "config = f.load_sheet_from_workbook(planilhas['Configuração_Semestre'], 'Parâmetros', skiprows=1)"
   ]
  },
  {
   "cell_type": "code",
   "execution_count": null,
   "metadata": {},
   "outputs": [],
   "source": [
    "txt = r'=importrange(\"https://docs.google.com/spreadsheets/d/1zg8roK0-EFySIZivBaHkLeNcVsNJ1t41YrpMzlli6vQ\", \"voluntarios_2018_2S\")'"
   ]
  },
  {
   "cell_type": "code",
   "execution_count": null,
   "metadata": {},
   "outputs": [],
   "source": [
    "for title, (sh, _) in param.items():\n",
    "    print(title)\n",
    "    sh.clear()\n",
    "    sh.update_cell(1, 1, txt)"
   ]
  },
  {
   "cell_type": "markdown",
   "metadata": {},
   "source": [
    "## Load Student Sheets"
   ]
  },
  {
   "cell_type": "code",
   "execution_count": null,
   "metadata": {},
   "outputs": [],
   "source": [
    "students = {}\n",
    "for title, wb in turmas.items():\n",
    "    students[title] = f.load_sheet_from_workbook(wb, 'Students')"
   ]
  },
  {
   "cell_type": "markdown",
   "metadata": {},
   "source": [
    "## Load Listas de Presença"
   ]
  },
  {
   "cell_type": "code",
   "execution_count": null,
   "metadata": {},
   "outputs": [],
   "source": [
    "listas =  f.carrega_listas()"
   ]
  },
  {
   "cell_type": "code",
   "execution_count": null,
   "metadata": {
    "lines_to_next_cell": 2
   },
   "outputs": [],
   "source": [
    "s = r'\"Aula \"'\n",
    "for sheet, _ in listas.values():\n",
    "    #sheet.update_acell(\"R1\", fr\"=CONCATENATE({s},'Parâmetros'!$B7 ,\" \",'Parâmetros'!$C7)\")\n",
    "    for i in range(4, 29):"
   ]
  },
  {
   "cell_type": "code",
   "execution_count": null,
   "metadata": {},
   "outputs": [],
   "source": [
    "from time import sleep\n",
    "\n",
    "sheet = students[\"A1\"][0]\n",
    "\n",
    "c = 2\n",
    "for index in range(5, sheet.row_count+1, 18):\n",
    "    print(index)\n",
    "    i = index\n",
    "    #cell_list = sheet.range(f\"E{i}:F{i+3}\")\n",
    "\n",
    "    sheet.update_cell(i, 1, fr\"=Info_Alunos!$B${c}\")\n",
    "    #sheet.cell(i, 1).value = fr\"=Info_Alunos!$B${c}\"\n",
    "    i += 1\n",
    "    sleep(2)\n",
    "    sheet.update_cell(i, 6, fr\"=Info_Alunos!$B${c}\")\n",
    "    #sheet.cell(i, 6).value = fr\"=Info_Alunos!$B${c}\"\n",
    "    i += 1\n",
    "    sleep(2)\n",
    "    sheet.update_cell(i, 6, fr\"=Info_Alunos!$D${c}\")\n",
    "    #sheet.cell(i, 6).value = fr\"=Info_Alunos!$D${c}\"    \n",
    "    i += 1\n",
    "    sleep(2)\n",
    "    sheet.update_cell(i, 6, fr\"=Info_Alunos!$F${c}\")\n",
    "    #sheet.cell(i, 6).value = fr\"=Info_Alunos!$F${c}\"\n",
    "    i += 1\n",
    "    sleep(2)\n",
    "    sheet.update_cell(i, 6, fr\"=Info_Alunos!$G${c}\")\n",
    "    #sheet.cell(i, 6).value = fr\"=Info_Alunos!$G${c}\"\n",
    "    i += 1\n",
    "    sleep(2)\n",
    "    sheet.update_cell(i, 6, fr\"=Info_Alunos!$A${c}\")\n",
    "    #sheet.cell(i, 6).value = fr\"=Info_Alunos!$A${c}\"\n",
    "    i += 5 \n",
    "    sleep(2)\n",
    "    sheet.update_cell(i, 5, 'Attendance')\n",
    "    sleep(2)\n",
    "    #sheet.cell(i, 5).value = 'Attendance'\n",
    "    sheet.update_cell(i, 6, fr\"='Notas dos Alunos'!$B${c}\")\n",
    "    sleep(2)\n",
    "    #sheet.cell(i, 6).value = fr\"='Notas dos Alunos'!$B${c}\"\n",
    "    i +=1\n",
    "    sheet.update_cell(i, 5, 'Homework')\n",
    "    sleep(2)\n",
    "    #sheet.cell(i, 5).value = 'Homework'\n",
    "    sheet.update_cell(i, 6, fr\"='Notas dos Alunos'!$C${c}\")\n",
    "    sleep(2)\n",
    "    #sheet.cell(i, 6).value = fr\"='Notas dos Alunos'!$C${c}\"\n",
    "    i +=1\n",
    "    sheet.update_cell(i, 5, 'English Usage')\n",
    "    sleep(2)\n",
    "    #sheet.cell(i, 5).value = 'English Usage'\n",
    "    sheet.update_cell(i, 6, fr\"='Notas dos Alunos'!$D${c}\")\n",
    "    sleep(2)\n",
    "    #sheet.cell(i, 6).value = fr\"='Notas dos Alunos'!$D${c}\"\n",
    "    i +=1\n",
    "    sheet.update_cell(i, 5, 'Speaking')\n",
    "    sleep(2)\n",
    "    #sheet.cell(i, 5).value = 'Speaking'\n",
    "    sheet.update_cell(i, 6, fr\"='Notas dos Alunos'!$E${c}\")\n",
    "    sleep(2)\n",
    "    #sheet.cell(i, 6).value = fr\"='Notas dos Alunos'!$E${c}\"\n",
    "    i +=1\n",
    "    sheet.update_cell(i, 5, 'Midterm')\n",
    "    sleep(2)\n",
    "    #sheet.cell(i, 5).value = 'Midterm'\n",
    "    sheet.update_cell(i, 6, fr\"='Notas dos Alunos'!$F${c}\")\n",
    "    sleep(2)\n",
    "    #sheet.cell(i, 6).value = fr\"='Notas dos Alunos'!$F${c}\"\n",
    "    i +=1\n",
    "    sheet.update_cell(i, 5, 'Final Exam')\n",
    "    sleep(2)\n",
    "    #sheet.cell(i, 5).value = 'Final Exam'\n",
    "    sheet.update_cell(i, 6, fr\"='Notas dos Alunos'!$G${c}\")\n",
    "    sleep(2)\n",
    "    #sheet.cell(i, 6).value = fr\"='Notas dos Alunos'!$G${c}\"\n",
    "    i +=1\n",
    "    sheet.update_cell(i, 5, \"Final Grade\")\n",
    "    sleep(2)\n",
    "    #sheet.cell(i, 5).value = \"Final Grade\"\n",
    "    sheet.update_cell(i, 6, fr\"='Notas dos Alunos'!$I${c}\")\n",
    "    sleep(2)\n",
    "    #sheet.cell(i, 6).value = fr\"='Notas dos Alunos'!$I${c}\"\n",
    "    #sheet.update_cells(cell_list)\n",
    "    c += 1\n",
    "    #sleep(100)\n",
    "\n",
    "    #sheet.update_cells(sheet.range(f\"A1:F{sheet.row_count}\"))\n"
   ]
  },
  {
   "cell_type": "markdown",
   "metadata": {},
   "source": [
    "## Corrige células nulas das planilhas de presença"
   ]
  },
  {
   "cell_type": "code",
   "execution_count": null,
   "metadata": {},
   "outputs": [],
   "source": [
    "p = [\"P\" + str(i) for i in range(1, 13)]\n",
    "\n",
    "h = [c for c in df.columns if \"HW\" in c and \"_\" not in c]\n",
    "\n",
    "cp = [c for c in df.columns if \"CP\" in c]\n",
    " \n",
    "p, h, cp"
   ]
  },
  {
   "cell_type": "code",
   "execution_count": null,
   "metadata": {},
   "outputs": [],
   "source": [
    "df.columns"
   ]
  },
  {
   "cell_type": "code",
   "execution_count": null,
   "metadata": {},
   "outputs": [],
   "source": [
    "name = \"A1\"\n",
    "df = listas[name][1]\n",
    "\n",
    "cols = range(7,42)\n",
    "\n",
    "df.iloc[:, cols].fillna(\"\")\n",
    "df.iloc[:, cols]"
   ]
  },
  {
   "cell_type": "code",
   "execution_count": null,
   "metadata": {},
   "outputs": [],
   "source": [
    "df[p]"
   ]
  },
  {
   "cell_type": "code",
   "execution_count": null,
   "metadata": {},
   "outputs": [],
   "source": [
    "#df[[\"P7\", \"P8\", \"P9\", \"P12\"]] = df[[\"P7\", \"P8\", \"P9\", \"P12\"]].replace(\"nan\", \"Ausente\")\n",
    "df[presença] = df[presença].replace(\"\", \"Ausente\")\n",
    "\n",
    "df[presença]"
   ]
  },
  {
   "cell_type": "code",
   "execution_count": null,
   "metadata": {},
   "outputs": [],
   "source": [
    "df[h]"
   ]
  },
  {
   "cell_type": "code",
   "execution_count": null,
   "metadata": {},
   "outputs": [],
   "source": [
    "#df.HW9 = df.HW9.replace(\"Não Fez\", \"Não Houve\")\n",
    "#df[homework] = df[homework].replace('', \"Não Fez\")\n",
    "df[h]"
   ]
  },
  {
   "cell_type": "code",
   "execution_count": null,
   "metadata": {},
   "outputs": [],
   "source": [
    "df[cp]"
   ]
  },
  {
   "cell_type": "code",
   "execution_count": null,
   "metadata": {},
   "outputs": [],
   "source": [
    "df[[\"SPK1\", 'SPK2']]"
   ]
  },
  {
   "cell_type": "code",
   "execution_count": null,
   "metadata": {},
   "outputs": [],
   "source": [
    "for presença, participação in zip([i for i in p if i not in [\"P1\", \"P6\", \"P7\", \"P12\"]], cp):\n",
    "    df[participação][df[presença] == \"Ausente\"] = \"\"\n",
    "    df[participação][df[presença] == \"Presente\"] = 'Good'"
   ]
  },
  {
   "cell_type": "code",
   "execution_count": null,
   "metadata": {},
   "outputs": [],
   "source": [
    "df[\"SPK1\"][df['P6'] == \"Ausente\"] = 0.00\n",
    "#df[\"SPK2\"][df['P12'] == \"Ausente\"] = 0.00\n",
    "\n",
    "\n",
    "df['Nota_Mid'][df['P7'] == \"Ausente\"] = 0.00"
   ]
  },
  {
   "cell_type": "code",
   "execution_count": null,
   "metadata": {},
   "outputs": [],
   "source": [
    "df[[\"Nome\", \"Nota_Final\"]][df.Nota_Final != 'nan']"
   ]
  },
  {
   "cell_type": "code",
   "execution_count": null,
   "metadata": {},
   "outputs": [],
   "source": [
    "f.salva_aba_no_drive(df.iloc[:, 7:40], 'J23_2018-2S_Feedback_'+name, aba_drive=\"Lista de Presença\", row=4, col=8)"
   ]
  },
  {
   "cell_type": "code",
   "execution_count": null,
   "metadata": {},
   "outputs": [],
   "source": [
    "for title, wb in wbs.items():\n",
    "    if \"2018-2S_Feedback\" in title:\n",
    "        sheet = wb.worksheet('Students')\n",
    "        #print(dir(sheet))\n",
    "        for i in range(15,sheet.row_count+1, 18):\n",
    "            print(sheet.cell(i, 5).value)\n",
    "        break    "
   ]
  },
  {
   "cell_type": "code",
   "execution_count": null,
   "metadata": {},
   "outputs": [],
   "source": [
    "values[13]"
   ]
  },
  {
   "cell_type": "code",
   "execution_count": null,
   "metadata": {},
   "outputs": [],
   "source": [
    "templates = [wb for wb in wbs if \"2018-2S\" in wb.title]\n",
    "templates"
   ]
  },
  {
   "cell_type": "code",
   "execution_count": null,
   "metadata": {},
   "outputs": [],
   "source": [
    "ws = templates[0]"
   ]
  },
  {
   "cell_type": "code",
   "execution_count": null,
   "metadata": {},
   "outputs": [],
   "source": [
    "delete = [\"LEIA-ME\", \"Teachers\", \"Alocação\", \"Infos Matricula\", \"Students\", \"Lista_de_Presença\"]"
   ]
  },
  {
   "cell_type": "code",
   "execution_count": null,
   "metadata": {},
   "outputs": [],
   "source": [
    "for ws in templates:\n",
    "    for sheet in ws.worksheets():\n",
    "        if sheet.title in delete:\n",
    "            try:\n",
    "                ws.del_worksheet(sheet)\n",
    "            except Exception as e:\n",
    "                print(repr(e))"
   ]
  },
  {
   "cell_type": "code",
   "execution_count": null,
   "metadata": {},
   "outputs": [],
   "source": []
  }
 ],
 "metadata": {
  "jupytext": {
   "text_representation": {
    "extension": ".py",
    "format_name": "light",
    "format_version": "1.3",
    "jupytext_version": "0.8.6"
   }
  },
  "kernelspec": {
   "display_name": "Python 3",
   "language": "python",
   "name": "python3"
  },
  "language_info": {
   "codemirror_mode": {
    "name": "ipython",
    "version": 3
   },
   "file_extension": ".py",
   "mimetype": "text/x-python",
   "name": "python",
   "nbconvert_exporter": "python",
   "pygments_lexer": "ipython3",
   "version": "3.7.2"
  },
  "latex_envs": {
   "LaTeX_envs_menu_present": true,
   "autoclose": true,
   "autocomplete": true,
   "bibliofile": "biblio.bib",
   "cite_by": "apalike",
   "current_citInitial": 1,
   "eqLabelWithNumbers": true,
   "eqNumInitial": 1,
   "hotkeys": {
    "equation": "Ctrl-E",
    "itemize": "Ctrl-I"
   },
   "labels_anchors": false,
   "latex_user_defs": false,
   "report_style_numbering": false,
   "user_envs_cfg": false
  },
  "nbTranslate": {
   "displayLangs": [
    "*"
   ],
   "hotkey": "alt-t",
   "langInMainMenu": true,
   "sourceLang": "en",
   "targetLang": "pt",
   "useGoogleTranslate": true
  },
  "toc": {
   "base_numbering": 1,
   "nav_menu": {},
   "number_sections": true,
   "sideBar": true,
   "skip_h1_title": false,
   "title_cell": "Table of Contents",
   "title_sidebar": "Contents",
   "toc_cell": false,
   "toc_position": {},
   "toc_section_display": true,
   "toc_window_display": false
  },
  "varInspector": {
   "cols": {
    "lenName": 16,
    "lenType": 16,
    "lenVar": 40
   },
   "kernels_config": {
    "python": {
     "delete_cmd_postfix": "",
     "delete_cmd_prefix": "del ",
     "library": "var_list.py",
     "varRefreshCmd": "print(var_dic_list())"
    },
    "r": {
     "delete_cmd_postfix": ") ",
     "delete_cmd_prefix": "rm(",
     "library": "var_list.r",
     "varRefreshCmd": "cat(var_dic_list()) "
    }
   },
   "types_to_exclude": [
    "module",
    "function",
    "builtin_function_or_method",
    "instance",
    "_Feature"
   ],
   "window_display": false
  }
 },
 "nbformat": 4,
 "nbformat_minor": 2
}
