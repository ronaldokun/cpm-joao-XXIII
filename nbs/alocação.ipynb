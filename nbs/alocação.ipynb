{
 "cells": [
  {
   "cell_type": "code",
   "execution_count": 33,
   "metadata": {
    "ExecuteTime": {
     "end_time": "2019-08-28T21:07:10.967981Z",
     "start_time": "2019-08-28T21:07:10.611897Z"
    }
   },
   "outputs": [],
   "source": [
    "from context import cpm\n",
    "\n",
    "import cpm.functions as functions\n",
    "from cpm.variables import *\n",
    "import cpm.agenda as agenda\n",
    "\n",
    "# Every time we change a module they are reload before executing \n",
    "%reload_ext autoreload\n",
    "%autoreload 2\n",
    "\n",
    "AULA = '3'"
   ]
  },
  {
   "cell_type": "markdown",
   "metadata": {},
   "source": [
    "### Carrega a alocação\n",
    "Itera todas as planilhas de feedback, carrega a aba de alocação e formata de maneira tabular"
   ]
  },
  {
   "cell_type": "code",
   "execution_count": 41,
   "metadata": {
    "ExecuteTime": {
     "end_time": "2019-08-28T21:13:23.558835Z",
     "start_time": "2019-08-28T21:12:24.212812Z"
    }
   },
   "outputs": [
    {
     "name": "stdout",
     "output_type": "stream",
     "text": [
      "Carregando Alocação: A1\n",
      "Carregando Alocação: A2\n",
      "Carregando Alocação: B1\n",
      "Carregando Alocação: B2\n",
      "Carregando Alocação: C1\n",
      "Carregando Alocação: C2\n",
      "Carregando Alocação: D1\n",
      "Carregando Alocação: D2\n",
      "Carregando Alocação: E1\n",
      "Carregando Alocação: E2\n",
      "Carregando Alocação: F\n",
      "Carregando Alocação: G1\n",
      "Carregando Alocação: G2\n",
      "Carregando Alocação: H\n",
      "Carregando Alocação: I\n",
      "Carregando Alocação: J\n",
      "Carregando Alocação: EA\n"
     ]
    },
    {
     "data": {
      "text/html": [
       "<div>\n",
       "<style scoped>\n",
       "    .dataframe tbody tr th:only-of-type {\n",
       "        vertical-align: middle;\n",
       "    }\n",
       "\n",
       "    .dataframe tbody tr th {\n",
       "        vertical-align: top;\n",
       "    }\n",
       "\n",
       "    .dataframe thead th {\n",
       "        text-align: right;\n",
       "    }\n",
       "</style>\n",
       "<table border=\"1\" class=\"dataframe\">\n",
       "  <thead>\n",
       "    <tr style=\"text-align: right;\">\n",
       "      <th></th>\n",
       "      <th>Data</th>\n",
       "      <th>Aula</th>\n",
       "      <th>Nome</th>\n",
       "    </tr>\n",
       "  </thead>\n",
       "  <tbody>\n",
       "    <tr>\n",
       "      <th>0</th>\n",
       "      <td>2019-08-04</td>\n",
       "      <td>1</td>\n",
       "      <td>Jaqueline Dias Conde de Carvalho</td>\n",
       "    </tr>\n",
       "    <tr>\n",
       "      <th>1</th>\n",
       "      <td>2019-08-04</td>\n",
       "      <td>1</td>\n",
       "      <td>Fabiana Guimaraes Canello</td>\n",
       "    </tr>\n",
       "    <tr>\n",
       "      <th>2</th>\n",
       "      <td>2019-08-04</td>\n",
       "      <td>1</td>\n",
       "      <td>Daniela Franco</td>\n",
       "    </tr>\n",
       "    <tr>\n",
       "      <th>3</th>\n",
       "      <td>2019-08-04</td>\n",
       "      <td>1</td>\n",
       "      <td>Melissa Mara Sferra</td>\n",
       "    </tr>\n",
       "    <tr>\n",
       "      <th>4</th>\n",
       "      <td>2019-08-04</td>\n",
       "      <td>1</td>\n",
       "      <td>Isabela Gardenal Ometto</td>\n",
       "    </tr>\n",
       "  </tbody>\n",
       "</table>\n",
       "</div>"
      ],
      "text/plain": [
       "         Data Aula                              Nome\n",
       "0  2019-08-04    1  Jaqueline Dias Conde de Carvalho\n",
       "1  2019-08-04    1         Fabiana Guimaraes Canello\n",
       "2  2019-08-04    1                    Daniela Franco\n",
       "3  2019-08-04    1               Melissa Mara Sferra\n",
       "4  2019-08-04    1           Isabela Gardenal Ometto"
      ]
     },
     "execution_count": 41,
     "metadata": {},
     "output_type": "execute_result"
    }
   ],
   "source": [
    "alocacao = agenda.carrega_alocacao().dropna(subset=[\"Nome\", \"Aula\"])\n",
    "alocacao.head()"
   ]
  },
  {
   "cell_type": "markdown",
   "metadata": {},
   "source": [
    "Este método `.dropna(subset=[\"Nome\", \"Aula\"])` ignora as linhas com a aula ou nome vazios"
   ]
  },
  {
   "cell_type": "markdown",
   "metadata": {
    "ExecuteTime": {
     "end_time": "2019-08-28T20:54:13.051083Z",
     "start_time": "2019-08-28T20:54:13.049107Z"
    }
   },
   "source": [
    "### Lê a agenda para verificar em qual linha termina"
   ]
  },
  {
   "cell_type": "code",
   "execution_count": 42,
   "metadata": {
    "ExecuteTime": {
     "end_time": "2019-08-28T21:13:26.681728Z",
     "start_time": "2019-08-28T21:13:24.010469Z"
    }
   },
   "outputs": [
    {
     "data": {
      "text/html": [
       "<div>\n",
       "<style scoped>\n",
       "    .dataframe tbody tr th:only-of-type {\n",
       "        vertical-align: middle;\n",
       "    }\n",
       "\n",
       "    .dataframe tbody tr th {\n",
       "        vertical-align: top;\n",
       "    }\n",
       "\n",
       "    .dataframe thead th {\n",
       "        text-align: right;\n",
       "    }\n",
       "</style>\n",
       "<table border=\"1\" class=\"dataframe\">\n",
       "  <thead>\n",
       "    <tr style=\"text-align: right;\">\n",
       "      <th></th>\n",
       "      <th>Data</th>\n",
       "      <th>Aula</th>\n",
       "      <th>Nome</th>\n",
       "      <th>Presente?</th>\n",
       "      <th>Turma</th>\n",
       "      <th>Telefone</th>\n",
       "      <th>Email Pessoal</th>\n",
       "      <th>Email CPM</th>\n",
       "    </tr>\n",
       "  </thead>\n",
       "  <tbody>\n",
       "    <tr>\n",
       "      <th>128</th>\n",
       "      <td>2019-08-25</td>\n",
       "      <td>3</td>\n",
       "      <td>Aline Aguiar</td>\n",
       "      <td>True</td>\n",
       "      <td>I</td>\n",
       "      <td>(15) 997175205</td>\n",
       "      <td>alineaguiar96@gmail.com</td>\n",
       "      <td>aline.aguiar@cidadaopromundo.org</td>\n",
       "    </tr>\n",
       "    <tr>\n",
       "      <th>129</th>\n",
       "      <td>2019-08-25</td>\n",
       "      <td>3</td>\n",
       "      <td>Anastasia Valentinovna Gorskaya</td>\n",
       "      <td>True</td>\n",
       "      <td>J</td>\n",
       "      <td>(11) 947222278</td>\n",
       "      <td>gorskayaa@yahoo.com</td>\n",
       "      <td>anastasia.gorskaya@cidadaopromundo.org</td>\n",
       "    </tr>\n",
       "    <tr>\n",
       "      <th>130</th>\n",
       "      <td>2019-08-25</td>\n",
       "      <td>3</td>\n",
       "      <td>Raul Cardoso</td>\n",
       "      <td>True</td>\n",
       "      <td>J</td>\n",
       "      <td>(11) 957620287</td>\n",
       "      <td>raul.cardoso@cidadaopromundo.org</td>\n",
       "      <td>raul.cardoso@cidadaopromundo.org</td>\n",
       "    </tr>\n",
       "    <tr>\n",
       "      <th>131</th>\n",
       "      <td>2019-08-18</td>\n",
       "      <td>2</td>\n",
       "      <td>Adriana Fernandes de Araújo</td>\n",
       "      <td>True</td>\n",
       "      <td>J</td>\n",
       "      <td>(11) 981615548</td>\n",
       "      <td>adrifaraujo@gmail.com</td>\n",
       "      <td>adriana.araujo@cidadaopromundo.org</td>\n",
       "    </tr>\n",
       "    <tr>\n",
       "      <th>132</th>\n",
       "      <td>2019-08-18</td>\n",
       "      <td>2</td>\n",
       "      <td>Helena Cristina de Souza Carias</td>\n",
       "      <td>True</td>\n",
       "      <td>J</td>\n",
       "      <td>(11) 989764475</td>\n",
       "      <td>csc.helena@gmail.com</td>\n",
       "      <td>helena.carias@cidadaopromundo.org</td>\n",
       "    </tr>\n",
       "  </tbody>\n",
       "</table>\n",
       "</div>"
      ],
      "text/plain": [
       "           Data Aula                             Nome Presente? Turma  \\\n",
       "128  2019-08-25    3                     Aline Aguiar      True     I   \n",
       "129  2019-08-25    3  Anastasia Valentinovna Gorskaya      True     J   \n",
       "130  2019-08-25    3                     Raul Cardoso      True     J   \n",
       "131  2019-08-18    2      Adriana Fernandes de Araújo      True     J   \n",
       "132  2019-08-18    2  Helena Cristina de Souza Carias      True     J   \n",
       "\n",
       "           Telefone                     Email Pessoal  \\\n",
       "128  (15) 997175205           alineaguiar96@gmail.com   \n",
       "129  (11) 947222278               gorskayaa@yahoo.com   \n",
       "130  (11) 957620287  raul.cardoso@cidadaopromundo.org   \n",
       "131  (11) 981615548             adrifaraujo@gmail.com   \n",
       "132  (11) 989764475              csc.helena@gmail.com   \n",
       "\n",
       "                                  Email CPM  \n",
       "128        aline.aguiar@cidadaopromundo.org  \n",
       "129  anastasia.gorskaya@cidadaopromundo.org  \n",
       "130        raul.cardoso@cidadaopromundo.org  \n",
       "131      adriana.araujo@cidadaopromundo.org  \n",
       "132       helena.carias@cidadaopromundo.org  "
      ]
     },
     "execution_count": 42,
     "metadata": {},
     "output_type": "execute_result"
    }
   ],
   "source": [
    "agenda_joao = functions.load_df_from_sheet(ALOCACAO, \"Agenda\").dropna(subset=[\"Nome\"])\n",
    "agenda_joao.tail()"
   ]
  },
  {
   "cell_type": "code",
   "execution_count": 43,
   "metadata": {
    "ExecuteTime": {
     "end_time": "2019-08-28T21:13:27.284917Z",
     "start_time": "2019-08-28T21:13:27.097058Z"
    }
   },
   "outputs": [
    {
     "data": {
      "text/plain": [
       "(133, 8)"
      ]
     },
     "execution_count": 43,
     "metadata": {},
     "output_type": "execute_result"
    }
   ],
   "source": [
    "agenda_joao.shape"
   ]
  },
  {
   "cell_type": "code",
   "execution_count": 44,
   "metadata": {
    "ExecuteTime": {
     "end_time": "2019-08-28T21:13:27.926187Z",
     "start_time": "2019-08-28T21:13:27.749972Z"
    }
   },
   "outputs": [],
   "source": [
    "linha_vazia = agenda_joao.shape[0] + 2"
   ]
  },
  {
   "cell_type": "markdown",
   "metadata": {},
   "source": [
    "### Filtra a alocação somente para a aula atual"
   ]
  },
  {
   "cell_type": "code",
   "execution_count": 45,
   "metadata": {
    "ExecuteTime": {
     "end_time": "2019-08-28T21:13:28.497079Z",
     "start_time": "2019-08-28T21:13:28.320318Z"
    }
   },
   "outputs": [],
   "source": [
    "alocacao = alocacao[alocacao[\"Aula\"] == AULA]"
   ]
  },
  {
   "cell_type": "code",
   "execution_count": 46,
   "metadata": {
    "ExecuteTime": {
     "end_time": "2019-08-28T21:13:35.796670Z",
     "start_time": "2019-08-28T21:13:32.833940Z"
    }
   },
   "outputs": [],
   "source": [
    "functions.salva_aba_no_drive(alocacao, ALOCACAO, \"Agenda\", row=linha_vazia)\n"
   ]
  },
  {
   "cell_type": "code",
   "execution_count": null,
   "metadata": {},
   "outputs": [],
   "source": []
  }
 ],
 "metadata": {
  "kernelspec": {
   "display_name": "Python [conda env:cpm]",
   "language": "python",
   "name": "conda-env-cpm-py"
  },
  "language_info": {
   "codemirror_mode": {
    "name": "ipython",
    "version": 3
   },
   "file_extension": ".py",
   "mimetype": "text/x-python",
   "name": "python",
   "nbconvert_exporter": "python",
   "pygments_lexer": "ipython3",
   "version": "3.7.1"
  },
  "toc": {
   "base_numbering": 1,
   "nav_menu": {},
   "number_sections": true,
   "sideBar": true,
   "skip_h1_title": false,
   "title_cell": "Table of Contents",
   "title_sidebar": "Contents",
   "toc_cell": false,
   "toc_position": {},
   "toc_section_display": true,
   "toc_window_display": false
  },
  "varInspector": {
   "cols": {
    "lenName": 16,
    "lenType": 16,
    "lenVar": 40
   },
   "kernels_config": {
    "python": {
     "delete_cmd_postfix": "",
     "delete_cmd_prefix": "del ",
     "library": "var_list.py",
     "varRefreshCmd": "print(var_dic_list())"
    },
    "r": {
     "delete_cmd_postfix": ") ",
     "delete_cmd_prefix": "rm(",
     "library": "var_list.r",
     "varRefreshCmd": "cat(var_dic_list()) "
    }
   },
   "types_to_exclude": [
    "module",
    "function",
    "builtin_function_or_method",
    "instance",
    "_Feature"
   ],
   "window_display": false
  }
 },
 "nbformat": 4,
 "nbformat_minor": 2
}
