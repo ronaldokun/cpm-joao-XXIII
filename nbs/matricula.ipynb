{
 "cells": [
  {
   "cell_type": "code",
   "execution_count": 1,
   "metadata": {},
   "outputs": [],
   "source": [
    "import pandas as pd"
   ]
  },
  {
   "cell_type": "code",
   "execution_count": 2,
   "metadata": {},
   "outputs": [],
   "source": [
    "import re\n",
    "# Access and edit Google Sheets by gspread\n",
    "import gspread"
   ]
  },
  {
   "cell_type": "code",
   "execution_count": 3,
   "metadata": {},
   "outputs": [],
   "source": [
    "# Module to transform gsheets to data frame\n",
    "import gspread_dataframe as gs_to_df"
   ]
  },
  {
   "cell_type": "code",
   "execution_count": 4,
   "metadata": {},
   "outputs": [],
   "source": [
    "from oauth2client.service_account import  ServiceAccountCredentials"
   ]
  },
  {
   "cell_type": "code",
   "execution_count": 5,
   "metadata": {},
   "outputs": [],
   "source": [
    "import datetime as dt"
   ]
  },
  {
   "cell_type": "code",
   "execution_count": 6,
   "metadata": {},
   "outputs": [],
   "source": [
    "from pathlib import *"
   ]
  },
  {
   "cell_type": "code",
   "execution_count": 7,
   "metadata": {},
   "outputs": [],
   "source": [
    "import sys"
   ]
  },
  {
   "cell_type": "code",
   "execution_count": 8,
   "metadata": {},
   "outputs": [],
   "source": [
    "path = PurePath('__file__')\n",
    "sys.path.insert(0, str(Path(path.parent).resolve().parent))"
   ]
  },
  {
   "cell_type": "code",
   "execution_count": 9,
   "metadata": {
    "lines_to_next_cell": 2
   },
   "outputs": [],
   "source": [
    "from cpm import functions as f"
   ]
  },
  {
   "cell_type": "code",
   "execution_count": null,
   "metadata": {},
   "outputs": [],
   "source": [
    "TEMPLATE = \"Feedback_Template\""
   ]
  },
  {
   "cell_type": "code",
   "execution_count": 10,
   "metadata": {},
   "outputs": [],
   "source": [
    "MATRICULA = \"3. Planilha Matrículas 2019 - 1o sem\""
   ]
  },
  {
   "cell_type": "code",
   "execution_count": 30,
   "metadata": {},
   "outputs": [],
   "source": [
    "MATR_ABA = \"João XXIII\""
   ]
  },
  {
   "cell_type": "code",
   "execution_count": 12,
   "metadata": {
    "lines_to_next_cell": 2
   },
   "outputs": [],
   "source": [
    "MATR_CLEANED = \"J23_Matrícula_2019-1S\""
   ]
  },
  {
   "cell_type": "code",
   "execution_count": 13,
   "metadata": {},
   "outputs": [],
   "source": [
    "def check_feedback(gc, name):\n",
    "\n",
    "    aloc = gc.open(name)\n",
    "\n",
    "    # Convert gsheet to df\n",
    "    aloc = gs_to_df.get_as_dataframe(aloc, dtype=str)\n",
    "\n",
    "\n",
    "    # Transform String Dates to datetime\n",
    "    f = lambda x : dt.datetime.strptime(x, \"%d/%m/%Y\")\n",
    "\n",
    "    aloc['Data'] = aloc['Data'].map(f)\n",
    "\n",
    "    # correct 'nan' strings to ''\n",
    "    aloc.replace('nan', '', inplace=True)"
   ]
  },
  {
   "cell_type": "code",
   "execution_count": 14,
   "metadata": {},
   "outputs": [],
   "source": [
    "def split_date_hour(col):\n",
    "\n",
    "    return pd.Series(col.split(\" \"))"
   ]
  },
  {
   "cell_type": "code",
   "execution_count": 15,
   "metadata": {},
   "outputs": [],
   "source": [
    "def concat_names(x,y):\n",
    "\n",
    "    return x + \" \" + y"
   ]
  },
  {
   "cell_type": "code",
   "execution_count": 16,
   "metadata": {},
   "outputs": [],
   "source": [
    "def split_celfone(col):\n",
    "\n",
    "    if type(col) == str:\n",
    "\n",
    "        pattern = \".*\\(.*(\\d{2})\\).*(\\d{5})(\\d{4}).*\"\n",
    "\n",
    "        split = re.split(pattern, col)\n",
    "\n",
    "        if len(split) >= 4:\n",
    "\n",
    "            return \"(\" + split[1] + \")\" + \" \"  + split[2] + \"-\" + split[3]\n",
    "\n",
    "        return col\n",
    "\n",
    "    return col"
   ]
  },
  {
   "cell_type": "code",
   "execution_count": 17,
   "metadata": {},
   "outputs": [],
   "source": [
    "def split_fone(col):\n",
    "\n",
    "    if type(col) == str:\n",
    "\n",
    "        pattern = \".*\\(.*(\\d{2})\\).*(\\d{4}|\\d{4})(\\d{4}).*\"\n",
    "\n",
    "        split = re.split(pattern, col)\n",
    "\n",
    "        if len(split) >= 4:\n",
    "\n",
    "            return \"(\" + split[1] + \")\" + \" \"  + split[2] + \"-\" + split[3]\n",
    "\n",
    "        return col\n",
    "\n",
    "    return col"
   ]
  },
  {
   "cell_type": "code",
   "execution_count": 37,
   "metadata": {},
   "outputs": [],
   "source": [
    "def preprocess_df(df):\n",
    "\n",
    "    presencial = df[\"Data/Hora preenchimento\"] == \"Presencial\"\n",
    "\n",
    "    espera = df[\"Data/Hora preenchimento\"] == \"Lista de Espera\"\n",
    "\n",
    "    pre = df[~ presencial & ~ espera][\"Data/Hora preenchimento\"]\n",
    "\n",
    "    data_hora = pre.apply(split_date_hour)\n",
    "\n",
    "    data = pd.Series.append(df[presencial][\"Data/Hora preenchimento\"],\n",
    "                            df[espera][\"Data/Hora preenchimento\"])\n",
    "\n",
    "    data = data.append(data_hora.iloc[:, 0]).sort_index()\n",
    "\n",
    "    hora = pd.Series.append(df[presencial][\"Data/Hora preenchimento\"],\n",
    "                            df[espera][\"Data/Hora preenchimento\"])\n",
    "\n",
    "    hora = hora.append(data_hora.iloc[:, 1]).sort_index()\n",
    "\n",
    "    df.rename(columns={\"Data/Hora preenchimento\": \"Data_Pré_Matrícula\"},\n",
    "              inplace=True)\n",
    "\n",
    "    df[\"Data_Pré_Matrícula\"] = data\n",
    "\n",
    "    df[\"Hora_Pré_Matrícula\"] = hora\n",
    "\n",
    "    df[\"Nome\"] = df[\"Nome\"].apply(str.upper).apply(str.strip)\n",
    "\n",
    "    df[\"Sobrenome\"] = df[\"Sobrenome\"].apply(str.upper).apply(str.strip)\n",
    "\n",
    "    df[\"Nome Responsável\"] = df[\"Nome Responsável\"].apply(str.upper).apply(str.strip)\n",
    "\n",
    "    df[\"Sobrenome Responsável\"] = df[\"Sobrenome Responsável\"].apply(str.upper).apply(str.strip)\n",
    "\n",
    "    df[\"Nome Responsável\"] = concat_names(df[\"Nome Responsável\"],\n",
    "                                          df[\"Sobrenome Responsável\"])\n",
    "\n",
    "    del df[\"Sobrenome Responsável\"]\n",
    "\n",
    "    df[\"Nome\"] = concat_names(df[\"Nome\"], df[\"Sobrenome\"])\n",
    "\n",
    "    del df[\"Sobrenome\"]\n",
    "\n",
    "    df.rename(columns={\"Telefone Celular ex: (011) 00000-0000\": \"Tel_Celular\"},\n",
    "              inplace=True)\n",
    "\n",
    "    df[\"Tel_Celular\"] = df[\"Tel_Celular\"].apply(split_celfone)\n",
    "\n",
    "    df.rename(columns={\"Telefone Fixo ex: (011) 000-0000\": \"Tel_Fixo\"},\n",
    "              inplace=True)\n",
    "\n",
    "    df[\"Tel_Fixo\"] = df[\"Tel_Fixo\"].apply(split_fone)\n",
    "\n",
    "    df.rename(columns={\"Celular do Responsável\": \"Celular_Responsável\"},\n",
    "              inplace=True)\n",
    "\n",
    "    df[\"Celular_Responsável\"] = df[\"Celular_Responsável\"].apply(split_celfone)\n",
    "\n",
    "    df.rename(columns={\"RG \\n(apenas números)\" : \"RG\"}, inplace=True)\n",
    "\n",
    "    return df"
   ]
  },
  {
   "cell_type": "code",
   "execution_count": 38,
   "metadata": {},
   "outputs": [],
   "source": [
    "def main():\n",
    "\n",
    "    gc = f.authenticate()\n",
    "    \n",
    "    wb = f.load_workbooks_from_drive()[MATRICULA]\n",
    "    \n",
    "    df = f.load_sheet_from_workbook(wb, MATR_ABA, skiprows=[1,2])[1]\n",
    "\n",
    "    df = df.fillna('')\n",
    "\n",
    "    df = preprocess_df(df)\n",
    "\n",
    "    df.to_csv(\"matricula.csv\", sep=\",\", index=False, columns=COLUNAS, na_rep='')\n",
    "\n",
    "    df = pd.read_csv(\"matricula.csv\", dtype=str, na_values='')\n",
    "\n",
    "    matricula = gc.open(MATR_CLEANED)\n",
    "\n",
    "    wks = matricula.worksheet(\"JoãoXXIII\")\n",
    "\n",
    "    wks.clear()\n",
    "\n",
    "    gs_to_df.set_with_dataframe(worksheet=wks, dataframe=df)"
   ]
  },
  {
   "cell_type": "code",
   "execution_count": 39,
   "metadata": {},
   "outputs": [
    {
     "ename": "KeyError",
     "evalue": "'Data/Hora preenchimento'",
     "output_type": "error",
     "traceback": [
      "\u001b[0;31m---------------------------------------------------------------------------\u001b[0m",
      "\u001b[0;31mKeyError\u001b[0m                                  Traceback (most recent call last)",
      "\u001b[0;32m~/miniconda3/envs/cpm/lib/python3.6/site-packages/pandas/core/indexes/base.py\u001b[0m in \u001b[0;36mget_loc\u001b[0;34m(self, key, method, tolerance)\u001b[0m\n\u001b[1;32m   3077\u001b[0m             \u001b[0;32mtry\u001b[0m\u001b[0;34m:\u001b[0m\u001b[0;34m\u001b[0m\u001b[0m\n\u001b[0;32m-> 3078\u001b[0;31m                 \u001b[0;32mreturn\u001b[0m \u001b[0mself\u001b[0m\u001b[0;34m.\u001b[0m\u001b[0m_engine\u001b[0m\u001b[0;34m.\u001b[0m\u001b[0mget_loc\u001b[0m\u001b[0;34m(\u001b[0m\u001b[0mkey\u001b[0m\u001b[0;34m)\u001b[0m\u001b[0;34m\u001b[0m\u001b[0m\n\u001b[0m\u001b[1;32m   3079\u001b[0m             \u001b[0;32mexcept\u001b[0m \u001b[0mKeyError\u001b[0m\u001b[0;34m:\u001b[0m\u001b[0;34m\u001b[0m\u001b[0m\n",
      "\u001b[0;32mpandas/_libs/index.pyx\u001b[0m in \u001b[0;36mpandas._libs.index.IndexEngine.get_loc\u001b[0;34m()\u001b[0m\n",
      "\u001b[0;32mpandas/_libs/index.pyx\u001b[0m in \u001b[0;36mpandas._libs.index.IndexEngine.get_loc\u001b[0;34m()\u001b[0m\n",
      "\u001b[0;32mpandas/_libs/hashtable_class_helper.pxi\u001b[0m in \u001b[0;36mpandas._libs.hashtable.PyObjectHashTable.get_item\u001b[0;34m()\u001b[0m\n",
      "\u001b[0;32mpandas/_libs/hashtable_class_helper.pxi\u001b[0m in \u001b[0;36mpandas._libs.hashtable.PyObjectHashTable.get_item\u001b[0;34m()\u001b[0m\n",
      "\u001b[0;31mKeyError\u001b[0m: 'Data/Hora preenchimento'",
      "\nDuring handling of the above exception, another exception occurred:\n",
      "\u001b[0;31mKeyError\u001b[0m                                  Traceback (most recent call last)",
      "\u001b[0;32m<ipython-input-39-263240bbee7e>\u001b[0m in \u001b[0;36m<module>\u001b[0;34m\u001b[0m\n\u001b[0;32m----> 1\u001b[0;31m \u001b[0mmain\u001b[0m\u001b[0;34m(\u001b[0m\u001b[0;34m)\u001b[0m\u001b[0;34m\u001b[0m\u001b[0m\n\u001b[0m",
      "\u001b[0;32m<ipython-input-38-a1766723a05e>\u001b[0m in \u001b[0;36mmain\u001b[0;34m()\u001b[0m\n\u001b[1;32m      9\u001b[0m     \u001b[0mdf\u001b[0m \u001b[0;34m=\u001b[0m \u001b[0mdf\u001b[0m\u001b[0;34m.\u001b[0m\u001b[0mfillna\u001b[0m\u001b[0;34m(\u001b[0m\u001b[0;34m''\u001b[0m\u001b[0;34m)\u001b[0m\u001b[0;34m\u001b[0m\u001b[0m\n\u001b[1;32m     10\u001b[0m \u001b[0;34m\u001b[0m\u001b[0m\n\u001b[0;32m---> 11\u001b[0;31m     \u001b[0mdf\u001b[0m \u001b[0;34m=\u001b[0m \u001b[0mpreprocess_df\u001b[0m\u001b[0;34m(\u001b[0m\u001b[0mdf\u001b[0m\u001b[0;34m)\u001b[0m\u001b[0;34m\u001b[0m\u001b[0m\n\u001b[0m\u001b[1;32m     12\u001b[0m \u001b[0;34m\u001b[0m\u001b[0m\n\u001b[1;32m     13\u001b[0m     \u001b[0mdf\u001b[0m\u001b[0;34m.\u001b[0m\u001b[0mto_csv\u001b[0m\u001b[0;34m(\u001b[0m\u001b[0;34m\"matricula.csv\"\u001b[0m\u001b[0;34m,\u001b[0m \u001b[0msep\u001b[0m\u001b[0;34m=\u001b[0m\u001b[0;34m\",\"\u001b[0m\u001b[0;34m,\u001b[0m \u001b[0mindex\u001b[0m\u001b[0;34m=\u001b[0m\u001b[0;32mFalse\u001b[0m\u001b[0;34m,\u001b[0m \u001b[0mcolumns\u001b[0m\u001b[0;34m=\u001b[0m\u001b[0mCOLUNAS\u001b[0m\u001b[0;34m,\u001b[0m \u001b[0mna_rep\u001b[0m\u001b[0;34m=\u001b[0m\u001b[0;34m''\u001b[0m\u001b[0;34m)\u001b[0m\u001b[0;34m\u001b[0m\u001b[0m\n",
      "\u001b[0;32m<ipython-input-37-9cc6f3677ce3>\u001b[0m in \u001b[0;36mpreprocess_df\u001b[0;34m(df)\u001b[0m\n\u001b[1;32m      1\u001b[0m \u001b[0;32mdef\u001b[0m \u001b[0mpreprocess_df\u001b[0m\u001b[0;34m(\u001b[0m\u001b[0mdf\u001b[0m\u001b[0;34m)\u001b[0m\u001b[0;34m:\u001b[0m\u001b[0;34m\u001b[0m\u001b[0m\n\u001b[1;32m      2\u001b[0m \u001b[0;34m\u001b[0m\u001b[0m\n\u001b[0;32m----> 3\u001b[0;31m     \u001b[0mpresencial\u001b[0m \u001b[0;34m=\u001b[0m \u001b[0mdf\u001b[0m\u001b[0;34m[\u001b[0m\u001b[0;34m\"Data/Hora preenchimento\"\u001b[0m\u001b[0;34m]\u001b[0m \u001b[0;34m==\u001b[0m \u001b[0;34m\"Presencial\"\u001b[0m\u001b[0;34m\u001b[0m\u001b[0m\n\u001b[0m\u001b[1;32m      4\u001b[0m \u001b[0;34m\u001b[0m\u001b[0m\n\u001b[1;32m      5\u001b[0m     \u001b[0mespera\u001b[0m \u001b[0;34m=\u001b[0m \u001b[0mdf\u001b[0m\u001b[0;34m[\u001b[0m\u001b[0;34m\"Data/Hora preenchimento\"\u001b[0m\u001b[0;34m]\u001b[0m \u001b[0;34m==\u001b[0m \u001b[0;34m\"Lista de Espera\"\u001b[0m\u001b[0;34m\u001b[0m\u001b[0m\n",
      "\u001b[0;32m~/miniconda3/envs/cpm/lib/python3.6/site-packages/pandas/core/frame.py\u001b[0m in \u001b[0;36m__getitem__\u001b[0;34m(self, key)\u001b[0m\n\u001b[1;32m   2686\u001b[0m             \u001b[0;32mreturn\u001b[0m \u001b[0mself\u001b[0m\u001b[0;34m.\u001b[0m\u001b[0m_getitem_multilevel\u001b[0m\u001b[0;34m(\u001b[0m\u001b[0mkey\u001b[0m\u001b[0;34m)\u001b[0m\u001b[0;34m\u001b[0m\u001b[0m\n\u001b[1;32m   2687\u001b[0m         \u001b[0;32melse\u001b[0m\u001b[0;34m:\u001b[0m\u001b[0;34m\u001b[0m\u001b[0m\n\u001b[0;32m-> 2688\u001b[0;31m             \u001b[0;32mreturn\u001b[0m \u001b[0mself\u001b[0m\u001b[0;34m.\u001b[0m\u001b[0m_getitem_column\u001b[0m\u001b[0;34m(\u001b[0m\u001b[0mkey\u001b[0m\u001b[0;34m)\u001b[0m\u001b[0;34m\u001b[0m\u001b[0m\n\u001b[0m\u001b[1;32m   2689\u001b[0m \u001b[0;34m\u001b[0m\u001b[0m\n\u001b[1;32m   2690\u001b[0m     \u001b[0;32mdef\u001b[0m \u001b[0m_getitem_column\u001b[0m\u001b[0;34m(\u001b[0m\u001b[0mself\u001b[0m\u001b[0;34m,\u001b[0m \u001b[0mkey\u001b[0m\u001b[0;34m)\u001b[0m\u001b[0;34m:\u001b[0m\u001b[0;34m\u001b[0m\u001b[0m\n",
      "\u001b[0;32m~/miniconda3/envs/cpm/lib/python3.6/site-packages/pandas/core/frame.py\u001b[0m in \u001b[0;36m_getitem_column\u001b[0;34m(self, key)\u001b[0m\n\u001b[1;32m   2693\u001b[0m         \u001b[0;31m# get column\u001b[0m\u001b[0;34m\u001b[0m\u001b[0;34m\u001b[0m\u001b[0m\n\u001b[1;32m   2694\u001b[0m         \u001b[0;32mif\u001b[0m \u001b[0mself\u001b[0m\u001b[0;34m.\u001b[0m\u001b[0mcolumns\u001b[0m\u001b[0;34m.\u001b[0m\u001b[0mis_unique\u001b[0m\u001b[0;34m:\u001b[0m\u001b[0;34m\u001b[0m\u001b[0m\n\u001b[0;32m-> 2695\u001b[0;31m             \u001b[0;32mreturn\u001b[0m \u001b[0mself\u001b[0m\u001b[0;34m.\u001b[0m\u001b[0m_get_item_cache\u001b[0m\u001b[0;34m(\u001b[0m\u001b[0mkey\u001b[0m\u001b[0;34m)\u001b[0m\u001b[0;34m\u001b[0m\u001b[0m\n\u001b[0m\u001b[1;32m   2696\u001b[0m \u001b[0;34m\u001b[0m\u001b[0m\n\u001b[1;32m   2697\u001b[0m         \u001b[0;31m# duplicate columns & possible reduce dimensionality\u001b[0m\u001b[0;34m\u001b[0m\u001b[0;34m\u001b[0m\u001b[0m\n",
      "\u001b[0;32m~/miniconda3/envs/cpm/lib/python3.6/site-packages/pandas/core/generic.py\u001b[0m in \u001b[0;36m_get_item_cache\u001b[0;34m(self, item)\u001b[0m\n\u001b[1;32m   2487\u001b[0m         \u001b[0mres\u001b[0m \u001b[0;34m=\u001b[0m \u001b[0mcache\u001b[0m\u001b[0;34m.\u001b[0m\u001b[0mget\u001b[0m\u001b[0;34m(\u001b[0m\u001b[0mitem\u001b[0m\u001b[0;34m)\u001b[0m\u001b[0;34m\u001b[0m\u001b[0m\n\u001b[1;32m   2488\u001b[0m         \u001b[0;32mif\u001b[0m \u001b[0mres\u001b[0m \u001b[0;32mis\u001b[0m \u001b[0;32mNone\u001b[0m\u001b[0;34m:\u001b[0m\u001b[0;34m\u001b[0m\u001b[0m\n\u001b[0;32m-> 2489\u001b[0;31m             \u001b[0mvalues\u001b[0m \u001b[0;34m=\u001b[0m \u001b[0mself\u001b[0m\u001b[0;34m.\u001b[0m\u001b[0m_data\u001b[0m\u001b[0;34m.\u001b[0m\u001b[0mget\u001b[0m\u001b[0;34m(\u001b[0m\u001b[0mitem\u001b[0m\u001b[0;34m)\u001b[0m\u001b[0;34m\u001b[0m\u001b[0m\n\u001b[0m\u001b[1;32m   2490\u001b[0m             \u001b[0mres\u001b[0m \u001b[0;34m=\u001b[0m \u001b[0mself\u001b[0m\u001b[0;34m.\u001b[0m\u001b[0m_box_item_values\u001b[0m\u001b[0;34m(\u001b[0m\u001b[0mitem\u001b[0m\u001b[0;34m,\u001b[0m \u001b[0mvalues\u001b[0m\u001b[0;34m)\u001b[0m\u001b[0;34m\u001b[0m\u001b[0m\n\u001b[1;32m   2491\u001b[0m             \u001b[0mcache\u001b[0m\u001b[0;34m[\u001b[0m\u001b[0mitem\u001b[0m\u001b[0;34m]\u001b[0m \u001b[0;34m=\u001b[0m \u001b[0mres\u001b[0m\u001b[0;34m\u001b[0m\u001b[0m\n",
      "\u001b[0;32m~/miniconda3/envs/cpm/lib/python3.6/site-packages/pandas/core/internals.py\u001b[0m in \u001b[0;36mget\u001b[0;34m(self, item, fastpath)\u001b[0m\n\u001b[1;32m   4113\u001b[0m \u001b[0;34m\u001b[0m\u001b[0m\n\u001b[1;32m   4114\u001b[0m             \u001b[0;32mif\u001b[0m \u001b[0;32mnot\u001b[0m \u001b[0misna\u001b[0m\u001b[0;34m(\u001b[0m\u001b[0mitem\u001b[0m\u001b[0;34m)\u001b[0m\u001b[0;34m:\u001b[0m\u001b[0;34m\u001b[0m\u001b[0m\n\u001b[0;32m-> 4115\u001b[0;31m                 \u001b[0mloc\u001b[0m \u001b[0;34m=\u001b[0m \u001b[0mself\u001b[0m\u001b[0;34m.\u001b[0m\u001b[0mitems\u001b[0m\u001b[0;34m.\u001b[0m\u001b[0mget_loc\u001b[0m\u001b[0;34m(\u001b[0m\u001b[0mitem\u001b[0m\u001b[0;34m)\u001b[0m\u001b[0;34m\u001b[0m\u001b[0m\n\u001b[0m\u001b[1;32m   4116\u001b[0m             \u001b[0;32melse\u001b[0m\u001b[0;34m:\u001b[0m\u001b[0;34m\u001b[0m\u001b[0m\n\u001b[1;32m   4117\u001b[0m                 \u001b[0mindexer\u001b[0m \u001b[0;34m=\u001b[0m \u001b[0mnp\u001b[0m\u001b[0;34m.\u001b[0m\u001b[0marange\u001b[0m\u001b[0;34m(\u001b[0m\u001b[0mlen\u001b[0m\u001b[0;34m(\u001b[0m\u001b[0mself\u001b[0m\u001b[0;34m.\u001b[0m\u001b[0mitems\u001b[0m\u001b[0;34m)\u001b[0m\u001b[0;34m)\u001b[0m\u001b[0;34m[\u001b[0m\u001b[0misna\u001b[0m\u001b[0;34m(\u001b[0m\u001b[0mself\u001b[0m\u001b[0;34m.\u001b[0m\u001b[0mitems\u001b[0m\u001b[0;34m)\u001b[0m\u001b[0;34m]\u001b[0m\u001b[0;34m\u001b[0m\u001b[0m\n",
      "\u001b[0;32m~/miniconda3/envs/cpm/lib/python3.6/site-packages/pandas/core/indexes/base.py\u001b[0m in \u001b[0;36mget_loc\u001b[0;34m(self, key, method, tolerance)\u001b[0m\n\u001b[1;32m   3078\u001b[0m                 \u001b[0;32mreturn\u001b[0m \u001b[0mself\u001b[0m\u001b[0;34m.\u001b[0m\u001b[0m_engine\u001b[0m\u001b[0;34m.\u001b[0m\u001b[0mget_loc\u001b[0m\u001b[0;34m(\u001b[0m\u001b[0mkey\u001b[0m\u001b[0;34m)\u001b[0m\u001b[0;34m\u001b[0m\u001b[0m\n\u001b[1;32m   3079\u001b[0m             \u001b[0;32mexcept\u001b[0m \u001b[0mKeyError\u001b[0m\u001b[0;34m:\u001b[0m\u001b[0;34m\u001b[0m\u001b[0m\n\u001b[0;32m-> 3080\u001b[0;31m                 \u001b[0;32mreturn\u001b[0m \u001b[0mself\u001b[0m\u001b[0;34m.\u001b[0m\u001b[0m_engine\u001b[0m\u001b[0;34m.\u001b[0m\u001b[0mget_loc\u001b[0m\u001b[0;34m(\u001b[0m\u001b[0mself\u001b[0m\u001b[0;34m.\u001b[0m\u001b[0m_maybe_cast_indexer\u001b[0m\u001b[0;34m(\u001b[0m\u001b[0mkey\u001b[0m\u001b[0;34m)\u001b[0m\u001b[0;34m)\u001b[0m\u001b[0;34m\u001b[0m\u001b[0m\n\u001b[0m\u001b[1;32m   3081\u001b[0m \u001b[0;34m\u001b[0m\u001b[0m\n\u001b[1;32m   3082\u001b[0m         \u001b[0mindexer\u001b[0m \u001b[0;34m=\u001b[0m \u001b[0mself\u001b[0m\u001b[0;34m.\u001b[0m\u001b[0mget_indexer\u001b[0m\u001b[0;34m(\u001b[0m\u001b[0;34m[\u001b[0m\u001b[0mkey\u001b[0m\u001b[0;34m]\u001b[0m\u001b[0;34m,\u001b[0m \u001b[0mmethod\u001b[0m\u001b[0;34m=\u001b[0m\u001b[0mmethod\u001b[0m\u001b[0;34m,\u001b[0m \u001b[0mtolerance\u001b[0m\u001b[0;34m=\u001b[0m\u001b[0mtolerance\u001b[0m\u001b[0;34m)\u001b[0m\u001b[0;34m\u001b[0m\u001b[0m\n",
      "\u001b[0;32mpandas/_libs/index.pyx\u001b[0m in \u001b[0;36mpandas._libs.index.IndexEngine.get_loc\u001b[0;34m()\u001b[0m\n",
      "\u001b[0;32mpandas/_libs/index.pyx\u001b[0m in \u001b[0;36mpandas._libs.index.IndexEngine.get_loc\u001b[0;34m()\u001b[0m\n",
      "\u001b[0;32mpandas/_libs/hashtable_class_helper.pxi\u001b[0m in \u001b[0;36mpandas._libs.hashtable.PyObjectHashTable.get_item\u001b[0;34m()\u001b[0m\n",
      "\u001b[0;32mpandas/_libs/hashtable_class_helper.pxi\u001b[0m in \u001b[0;36mpandas._libs.hashtable.PyObjectHashTable.get_item\u001b[0;34m()\u001b[0m\n",
      "\u001b[0;31mKeyError\u001b[0m: 'Data/Hora preenchimento'"
     ]
    }
   ],
   "source": [
    "main()"
   ]
  },
  {
   "cell_type": "code",
   "execution_count": 26,
   "metadata": {},
   "outputs": [
    {
     "data": {
      "text/plain": [
       "{'3. Planilha Matrículas 2019 - 1o sem': <Spreadsheet '3. Planilha Matrículas 2019 - 1o sem' id:1cVRUmHE6qUjAGY-D7c1NFBC1FpYLoTwy-1-uqdEXpSI>,\n",
       " 'J23_Alunos_Consolidado': <Spreadsheet 'J23_Alunos_Consolidado' id:1zg8roK0-EFySIZivBaHkLeNcVsNJ1t41YrpMzlli6vQ>,\n",
       " 'J23_Matrícula_2019-1S': <Spreadsheet 'J23_Matrícula_2019-1S' id:1l1AFqVd8hWZ_xQ0wCDRqpZl4mJxWiMPWpUbV_Yp3fo8>,\n",
       " 'J23_Voluntários_Consolidado': <Spreadsheet 'J23_Voluntários_Consolidado' id:16uCaqRO3sTKkVlW7pqg1bzpWBhTJpE6VLjfPVUw-4fY>,\n",
       " 'J23_2019-1S_Feedback_A1': <Spreadsheet 'J23_2019-1S_Feedback_A1' id:1Lf-k5D25Zh7qynTnLEYISZhmOf_76MeOYdRBnv3yANQ>,\n",
       " 'Configuração_Planilhas': <Spreadsheet 'Configuração_Planilhas' id:1rNkW25vuRKxba2TYG2u0sZ-aSRDIixwoYbz_SaebBr4>,\n",
       " 'J23_2019-1S_Feedback_J': <Spreadsheet 'J23_2019-1S_Feedback_J' id:1gVZG1nfJYH9AMdl3LYf0K7qhxpNhAM-CQcCMg5D-cMA>,\n",
       " 'J23_2019-1S_Feedback_I': <Spreadsheet 'J23_2019-1S_Feedback_I' id:1HqzzlEFshiyJoOGhjlWJOYrkakQ9NnQlFTOmBP9iz5Y>,\n",
       " 'J23_2019-1S_Feedback_H': <Spreadsheet 'J23_2019-1S_Feedback_H' id:1wNLii-4fJF_S1NNodzXGiq1pUJCgtunsut3ZGPCJyb0>,\n",
       " 'J23_2019-1S_Feedback_G': <Spreadsheet 'J23_2019-1S_Feedback_G' id:1sBvd55DGKlachQNxRt-OZ0DK924fIXZs4B2gnrZpB10>,\n",
       " 'J23_2019-1S_Feedback_F2': <Spreadsheet 'J23_2019-1S_Feedback_F2' id:1oJyYrH_3tQhbAY6FufeCdku7TecVKHSj0vj3wPWSM4I>,\n",
       " 'J23_2019-1S_Feedback_F1': <Spreadsheet 'J23_2019-1S_Feedback_F1' id:1GGQyv-sfhaMeEL_rQa0OonqTrgPp2aFf4TJYb_F2Exo>,\n",
       " 'J23_2019-1S_Feedback_E2': <Spreadsheet 'J23_2019-1S_Feedback_E2' id:1bDBpQlYKdHnROPhAmlKNaduictL3ApKVvsF-sq80kgM>,\n",
       " 'J23_2019-1S_Feedback_E1': <Spreadsheet 'J23_2019-1S_Feedback_E1' id:1_iC3zNONAEyGHNSPmOKl0qaVCNgAisCa0-Ki1jqRz3A>,\n",
       " 'J23_2019-1S_Feedback_D2': <Spreadsheet 'J23_2019-1S_Feedback_D2' id:1GXWT0rqy17Y4h91ruGuXoF18-FczFrTBTCbbEBcmOrI>,\n",
       " 'J23_2019-1S_Feedback_D1': <Spreadsheet 'J23_2019-1S_Feedback_D1' id:1Q1KvN9fChDFuUdKY-Qa-QcCI7K-fX_LggGlUDOWvyEA>,\n",
       " 'J23_2019-1S_Feedback_C2': <Spreadsheet 'J23_2019-1S_Feedback_C2' id:1JlxEB4XFuJqY6M1SLp5kAFOrnluk5qhQiX-wIH_H03Y>,\n",
       " 'J23_2019-1S_Feedback_C1': <Spreadsheet 'J23_2019-1S_Feedback_C1' id:135xKF0X2fkD8o4vxXZJdXgkv5ZjvGD1EwKmA4CtGZFM>,\n",
       " 'J23_2019-1S_Feedback_B2': <Spreadsheet 'J23_2019-1S_Feedback_B2' id:1QW8v6212Yypi_R-Shn6N4U3te4O66x9MKTd3_D5tXlA>,\n",
       " 'J23_2019-1S_Feedback_B1': <Spreadsheet 'J23_2019-1S_Feedback_B1' id:19nGXoH2on-EXBAFyxjlBX6CGj__c02EqLll9xQt4UXo>,\n",
       " 'J23_2019-1S_Feedback_A2': <Spreadsheet 'J23_2019-1S_Feedback_A2' id:1J6T7C9m3l4uPbq33IvfyTHV5xw4ArVKsGoKWYMFo0vM>,\n",
       " 'J23_2019-1S_Feedback_Teens': <Spreadsheet 'J23_2019-1S_Feedback_Teens' id:1NWLcyATC27SWtsEQyxf3hhVmluKPY168dyqDtZH0b0U>,\n",
       " 'Abas_Acessórias_2018_2S': <Spreadsheet 'Abas_Acessórias_2018_2S' id:1OZbbP7z78cjym54GQjZD_-gwYm7a4HPeyvYWyeIK4P4>,\n",
       " 'J23_2018-2S_Feedback_A1': <Spreadsheet 'J23_2018-2S_Feedback_A1' id:1v0rLygkI0gLlo5NGpvXBSdeGxggYbYLaQNzoJw3Vubo>,\n",
       " 'J23_2018-2S_Feedback_C2': <Spreadsheet 'J23_2018-2S_Feedback_C2' id:1UFozpyG8bZ5zp-6NbNviKRFiYuYE2ub0cHEgMwsEv9U>,\n",
       " 'J23_2018-2S_Feedback_E1': <Spreadsheet 'J23_2018-2S_Feedback_E1' id:1n4CxruXID7I4wi1ZwYsy-33T4AzFeWQpSuoK4PQHimc>,\n",
       " 'J23_2018-2S_Feedback_C1': <Spreadsheet 'J23_2018-2S_Feedback_C1' id:13rr8B1KWVdBd7gJDgdAZR7vXE1iA3gYZf2_HzBxwP8A>,\n",
       " '2018-2S_Alocação_Consolidada': <Spreadsheet '2018-2S_Alocação_Consolidada' id:1rOm8gQfVBn0RyAzOgohwRwM1Wn-AoEKllrXlQrEmZ7I>,\n",
       " 'J23_2018-2S_Feedback_D1': <Spreadsheet 'J23_2018-2S_Feedback_D1' id:1a24CUgtuacYlJigqYnk9AQO9vPpVzCuF3INh_NEjTgU>,\n",
       " 'J23_2018-2S_Feedback_G': <Spreadsheet 'J23_2018-2S_Feedback_G' id:1Yd8SFrxt1VhTi__HirHUG3fJyLg8duMViQGtaJVFC84>,\n",
       " 'J23_2018-2S_Feedback_H': <Spreadsheet 'J23_2018-2S_Feedback_H' id:1Zc3sxZ6jvRMoWzpZ85i6L8lVjUas8NEcwqs9H-m3Qws>,\n",
       " 'J23_2018-2S_Feedback_F': <Spreadsheet 'J23_2018-2S_Feedback_F' id:1zMdy14DEYZ8wxdnou0uTFVhzHexroYAdE5UchlkNBGA>,\n",
       " 'J23_2018-2S_Feedback_A2': <Spreadsheet 'J23_2018-2S_Feedback_A2' id:1O2m_KiTLJ6V8ARXzYn3G19c2xMj6D0AuXzf_pn0OyGY>,\n",
       " 'J23_2018-2S_Feedback_B1': <Spreadsheet 'J23_2018-2S_Feedback_B1' id:121PXvRWFTHPXGiQI9YeaJAL9w6kejBCm646vz3E1h74>,\n",
       " 'J23_2018-2S_Feedback_B2': <Spreadsheet 'J23_2018-2S_Feedback_B2' id:1UBQSsgojIB5-l5lYDaU2Qatyo2W7-EOnoAgntUgEOAw>,\n",
       " 'J23_2018-2S_Feedback_I': <Spreadsheet 'J23_2018-2S_Feedback_I' id:1FbmgS4-ugcDTQ24de7abSP64vWplHE2nD3GSYTXZwoU>,\n",
       " 'J23_2018-2S_Feedback_J': <Spreadsheet 'J23_2018-2S_Feedback_J' id:1LcyPbKVB7-dKJNtEV6edmQCfTGW0-hn0l_Jx3XnwCiE>,\n",
       " 'J23_2018-2S_Feedback_E2': <Spreadsheet 'J23_2018-2S_Feedback_E2' id:1yd91O5T-Wy3_vQ0WP987tgih6my6li_OwqXfr7LIddw>,\n",
       " 'J23_2018-2S_Feedback_D2': <Spreadsheet 'J23_2018-2S_Feedback_D2' id:1IM9V-lkQE7uAfpCemm3R-EMnTOCixNWGK6YexEYrKk0>,\n",
       " 'J23_2018-2S_Feedback_Teens1': <Spreadsheet 'J23_2018-2S_Feedback_Teens1' id:1hYsZhQyURiCIBOSyfaYNSImS-GJjAefm2MEUGEQo-Io>,\n",
       " 'J23_2018-2S_Feedback_B3': <Spreadsheet 'J23_2018-2S_Feedback_B3' id:1i8M_e-9sDy1x5XQ4qhtTPx2KOU_PyUq1XBEm7mChUrA>,\n",
       " 'Speaking 2': <Spreadsheet 'Speaking 2' id:1_9DIqz9iaDD7gTflYNWL1dNwg7r4-6mYPsYt0xDA14o>,\n",
       " 'J23_Feedback_A2': <Spreadsheet 'J23_Feedback_A2' id:12Z5bEMhvx1MbbEG-a0oSvbqa7cCR1SEuyTAQHECe4fQ>,\n",
       " 'J23_Feedback_H': <Spreadsheet 'J23_Feedback_H' id:1xn-h-MNWsB6oUpm00ggAMoNyufR4h8dWX0Cb40cogDI>,\n",
       " 'J23_Feedback_G2': <Spreadsheet 'J23_Feedback_G2' id:1SqXNzvo20okqRv4g-FPvzoP3okXa3ukRdmw_GQD3Xag>,\n",
       " 'J23_Feedback_G1': <Spreadsheet 'J23_Feedback_G1' id:1SXGZi30zM-QRkj_mqo6sxSMy-BY-N9yGm0c9LhD_KEc>,\n",
       " 'J23_Feedback_B1': <Spreadsheet 'J23_Feedback_B1' id:1F-K0gI_otENRNjZSStpsBfONvtbXal3uczSqxRaHqU0>,\n",
       " 'Relatório_do_Semestre_2018_1S': <Spreadsheet 'Relatório_do_Semestre_2018_1S' id:1vwdfL2UkVi5k_abw4BMdbfBb3JUEm3D7J-Bq6JzZ8mk>,\n",
       " 'J23_Feedback_C2': <Spreadsheet 'J23_Feedback_C2' id:1EHv2krSG2GBRUVUEpBFgGL5DhFAgH9kffq3PJV8nwgA>,\n",
       " 'J23_Feedback_B3': <Spreadsheet 'J23_Feedback_B3' id:1hNaj4Ga8a_Df1t9UBQY6nh_I0RQKIQYpEDtqWg9bRQE>,\n",
       " 'J23_2018_2S_Feedback_A': <Spreadsheet 'J23_2018_2S_Feedback_A' id:1Q-OkuTRSY3tQoqFkSqFBvZ8u7H85-ZQoYOjn830zFOA>,\n",
       " 'JoãoXXIII_Feedback_Turma_A': <Spreadsheet 'JoãoXXIII_Feedback_Turma_A' id:1epf7_biRg5EjifEY-_d9unIBqIlGRFILw1WSbCEDArI>,\n",
       " 'J23_Feedback_C1': <Spreadsheet 'J23_Feedback_C1' id:1HbCns3OP6xchWSUyZDHfFeR2emHkcQ6NxFon-dfssyY>,\n",
       " 'Abas_Acessórias': <Spreadsheet 'Abas_Acessórias' id:1lJ1lV5ae-t3ifKb3efzy-qMjvNTnJLh4gIqejF_8S3g>,\n",
       " 'J23_Feedback_D1': <Spreadsheet 'J23_Feedback_D1' id:1xvt8SrQwq-p4nbB3DO9H9DZFsI4Df5dpFnK9A5eerMo>,\n",
       " 'J23_Feedback_D2': <Spreadsheet 'J23_Feedback_D2' id:1LX1zKiYWtmsUCYFymmpPUWDI9yjyoo5OKLNJrRIzkZ4>,\n",
       " 'JoãoXXIII_Feedback_Turma_X': <Spreadsheet 'JoãoXXIII_Feedback_Turma_X' id:1LraTS4PImYvvglqiNPJUUHZJ8xfl-RCVcL3sL95Y2do>,\n",
       " 'JoãoXXIII_Feedback_Turma_Teens1': <Spreadsheet 'JoãoXXIII_Feedback_Turma_Teens1' id:1dv8FnNm642oeQ90HqjCdiJCbficREMypIGLcLaiz9Ow>,\n",
       " 'JoãoXXIII_Feedback_Turma_J': <Spreadsheet 'JoãoXXIII_Feedback_Turma_J' id:1DbH7BnSgDQXAU3DUqwv1G0StrEt9OrsQKHy0yhdStGE>,\n",
       " 'JoãoXXIII_Feedback_Turma_I': <Spreadsheet 'JoãoXXIII_Feedback_Turma_I' id:13oYqHw5n_pCkLIPY4YJPvb0w__mUrP3llXsf4BXpWJY>,\n",
       " 'JoãoXXIII_Feedback_Turma_H': <Spreadsheet 'JoãoXXIII_Feedback_Turma_H' id:1FSQmrQqcTK7aei9tCpS-ywXE8CMMe_TFm26JxonFRXQ>,\n",
       " 'JoãoXXIII_Feedback_Turma_G': <Spreadsheet 'JoãoXXIII_Feedback_Turma_G' id:1Z0UPNztD0-gK9_FgiJ-08HxMylJBR1DhWI8wX3sMOW4>,\n",
       " 'JoãoXXIII_Feedback_Turma_F': <Spreadsheet 'JoãoXXIII_Feedback_Turma_F' id:1bsOUiQaMcwF8fwsbl_YUa3IAAj1m3m_PuupNp1bR-zM>,\n",
       " 'JoãoXXIII_Feedback_Turma_E': <Spreadsheet 'JoãoXXIII_Feedback_Turma_E' id:1J5xJy1t1feSpDARamYtvFEm4VAWPJr5dGrUrvxxnHmQ>,\n",
       " 'JoãoXXIII_Feedback_Turma_D': <Spreadsheet 'JoãoXXIII_Feedback_Turma_D' id:1q8BoWnndqZUaCN9TiIM6AsOqaAmadexKs8z8InIR9-A>,\n",
       " 'JoãoXXIII_Feedback_Turma_C': <Spreadsheet 'JoãoXXIII_Feedback_Turma_C' id:1DRNBss8CESOzya3xfRoXl-ZbHoCjIEo4su1Ghqq2JrA>,\n",
       " 'JoãoXXIII_Feedback_Turma_B': <Spreadsheet 'JoãoXXIII_Feedback_Turma_B' id:1ifcmOvneYBb-3zJ7znzHIPXJw7IZzQaLrPdxSrYC9fk>,\n",
       " 'J23_Feedback_A1': <Spreadsheet 'J23_Feedback_A1' id:1cXXbD-KjXJ_ZbIS5I_0HlE1aTG3VO7vKsVyPTLXNMEg>,\n",
       " 'Planos_de_Aula_20182S': <Spreadsheet 'Planos_de_Aula_20182S' id:1OXvk8FdJJAnprVNySUAj0wauRjtoWO4rpM5r3g5ZiyI>,\n",
       " '20181S_Alocação_Teachers_Consolidada': <Spreadsheet '20181S_Alocação_Teachers_Consolidada' id:1kiA7q-eXikGkSrPrLQbhT5LKjxovw89L42z3e8hNtis>,\n",
       " 'J23_Feedback_E1': <Spreadsheet 'J23_Feedback_E1' id:1xFX0cnOKbMRYltLlLT-oKxoxeJhNwwG3jIdLCqMAaLU>,\n",
       " 'J23_Feedback_B2': <Spreadsheet 'J23_Feedback_B2' id:19t7DN87KZYvdL33W86RCjFeEFfH5bpp-v4QfqFmGu0Y>,\n",
       " 'J23_Feedback_Teens1': <Spreadsheet 'J23_Feedback_Teens1' id:1nWSqUosK13GND5zMp3U3XjVN2U2YTK5h2Yex-wca9VA>,\n",
       " 'J23_Feedback_I': <Spreadsheet 'J23_Feedback_I' id:1kA-6UVVIx76et9zk7Exd2DpR_NjduVwuvKd_njUfmnQ>,\n",
       " 'J23_Feedback_F': <Spreadsheet 'J23_Feedback_F' id:15GRgYJvCgrR0i-0_QS0FexFBoHckho8w1mwooU4BWR0>,\n",
       " 'J23_Feedback_E2': <Spreadsheet 'J23_Feedback_E2' id:13KulENyOV9MhbiANLczWYBUszu_NxrrHlWUv3KfJpsM>}"
      ]
     },
     "execution_count": 26,
     "metadata": {},
     "output_type": "execute_result"
    }
   ],
   "source": [
    "planilhas"
   ]
  },
  {
   "cell_type": "code",
   "execution_count": null,
   "metadata": {},
   "outputs": [],
   "source": []
  },
  {
   "cell_type": "code",
   "execution_count": null,
   "metadata": {},
   "outputs": [],
   "source": []
  }
 ],
 "metadata": {
  "jupytext": {
   "main_language": "python",
   "text_representation": {
    "extension": ".py",
    "format_name": "light"
   }
  },
  "kernelspec": {
   "display_name": "Python 3",
   "language": "python",
   "name": "python3"
  },
  "language_info": {
   "codemirror_mode": {
    "name": "ipython",
    "version": 3
   },
   "file_extension": ".py",
   "mimetype": "text/x-python",
   "name": "python",
   "nbconvert_exporter": "python",
   "pygments_lexer": "ipython3",
   "version": "3.6.6"
  },
  "nbTranslate": {
   "displayLangs": [
    "*"
   ],
   "hotkey": "alt-t",
   "langInMainMenu": true,
   "sourceLang": "en",
   "targetLang": "pt",
   "useGoogleTranslate": true
  },
  "toc": {
   "base_numbering": 1,
   "nav_menu": {},
   "number_sections": true,
   "sideBar": true,
   "skip_h1_title": false,
   "title_cell": "Table of Contents",
   "title_sidebar": "Contents",
   "toc_cell": false,
   "toc_position": {},
   "toc_section_display": true,
   "toc_window_display": false
  },
  "varInspector": {
   "cols": {
    "lenName": 16,
    "lenType": 16,
    "lenVar": 40
   },
   "kernels_config": {
    "python": {
     "delete_cmd_postfix": "",
     "delete_cmd_prefix": "del ",
     "library": "var_list.py",
     "varRefreshCmd": "print(var_dic_list())"
    },
    "r": {
     "delete_cmd_postfix": ") ",
     "delete_cmd_prefix": "rm(",
     "library": "var_list.r",
     "varRefreshCmd": "cat(var_dic_list()) "
    }
   },
   "types_to_exclude": [
    "module",
    "function",
    "builtin_function_or_method",
    "instance",
    "_Feature"
   ],
   "window_display": true
  }
 },
 "nbformat": 4,
 "nbformat_minor": 2
}
