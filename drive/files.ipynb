{
 "cells": [
  {
   "cell_type": "code",
   "execution_count": 1,
   "metadata": {
    "ExecuteTime": {
     "end_time": "2019-08-28T14:02:25.065777Z",
     "start_time": "2019-08-28T14:02:22.560208Z"
    }
   },
   "outputs": [],
   "source": [
    "from helpers import searchFile\n",
    "\n",
    "%reload_ext autoreload\n",
    "%autoreload 2"
   ]
  },
  {
   "cell_type": "markdown",
   "metadata": {},
   "source": [
    "### Função auxiliar para guardar arquivo em dicionário"
   ]
  },
  {
   "cell_type": "code",
   "execution_count": 2,
   "metadata": {
    "ExecuteTime": {
     "end_time": "2019-08-28T14:02:26.923195Z",
     "start_time": "2019-08-28T14:02:26.828980Z"
    }
   },
   "outputs": [],
   "source": [
    "def keep_file(file, mimeType=None):\n",
    "    if mimeType is not None and file['mimeType'] == mimeType:\n",
    "        file['link'] = \"https://drive.google.com/open?id=\"+file['id']\n",
    "        return file\n",
    "\n",
    "def keep_files(files, mimeType=None):\n",
    "    found = []\n",
    "    for file in files:\n",
    "        keep = keep_file(file, mimeType)\n",
    "        if keep:\n",
    "            found.append(keep)\n",
    "    return found"
   ]
  },
  {
   "cell_type": "markdown",
   "metadata": {},
   "source": [
    "## Informe a pasta para varredura"
   ]
  },
  {
   "cell_type": "code",
   "execution_count": 3,
   "metadata": {
    "ExecuteTime": {
     "end_time": "2019-08-28T14:02:31.523302Z",
     "start_time": "2019-08-28T14:02:31.422019Z"
    }
   },
   "outputs": [
    {
     "data": {
      "text/plain": [
       "\"'1CPILIHf3Bcb8kTzbusAqytmH11GNL70E' in parents and mimeType contains 'image'\""
      ]
     },
     "execution_count": 3,
     "metadata": {},
     "output_type": "execute_result"
    }
   ],
   "source": [
    "folder = \"https://drive.google.com/drive/u/1/folders/1CPILIHf3Bcb8kTzbusAqytmH11GNL70E\"\n",
    "id = folder.split(\"/\")[-1]\n",
    "t0 = f\"'{id}' in parents and mimeType contains 'image'\"\n",
    "t0"
   ]
  },
  {
   "cell_type": "code",
   "execution_count": 4,
   "metadata": {
    "ExecuteTime": {
     "end_time": "2019-08-28T14:02:38.955295Z",
     "start_time": "2019-08-28T14:02:36.957939Z"
    }
   },
   "outputs": [
    {
     "name": "stdout",
     "output_type": "stream",
     "text": [
      "200\n"
     ]
    }
   ],
   "source": [
    "files = searchFile(1000, t0)"
   ]
  },
  {
   "cell_type": "code",
   "execution_count": 5,
   "metadata": {
    "ExecuteTime": {
     "end_time": "2019-08-28T14:02:46.689212Z",
     "start_time": "2019-08-28T14:02:46.592646Z"
    }
   },
   "outputs": [],
   "source": [
    "lista = keep_files(files, mimeType='image/jpeg')\n",
    "                     \n",
    "lista = sorted(lista, key=lambda x: x['name'])"
   ]
  },
  {
   "cell_type": "code",
   "execution_count": 6,
   "metadata": {
    "ExecuteTime": {
     "end_time": "2019-08-28T14:03:06.674211Z",
     "start_time": "2019-08-28T14:03:04.526274Z"
    }
   },
   "outputs": [],
   "source": [
    "import pandas as pd\n",
    "\n",
    "codigos, nomes, links = [],[],[]\n",
    "for i, aluno in enumerate(lista):\n",
    "    ident = aluno['name'].split(\"_\", 1)\n",
    "    if len(ident) < 2:\n",
    "        break\n",
    "    codigos.append(ident[0])\n",
    "    nomes.append(ident[1].replace(\"_\", \" \").replace(\".jpg\", \"\").replace(\".jpeg\", \"\"))\n",
    "    links.append(aluno['link'])"
   ]
  },
  {
   "cell_type": "code",
   "execution_count": 7,
   "metadata": {
    "ExecuteTime": {
     "end_time": "2019-08-28T14:03:08.619858Z",
     "start_time": "2019-08-28T14:03:08.495507Z"
    }
   },
   "outputs": [
    {
     "data": {
      "text/html": [
       "<div>\n",
       "<style scoped>\n",
       "    .dataframe tbody tr th:only-of-type {\n",
       "        vertical-align: middle;\n",
       "    }\n",
       "\n",
       "    .dataframe tbody tr th {\n",
       "        vertical-align: top;\n",
       "    }\n",
       "\n",
       "    .dataframe thead th {\n",
       "        text-align: right;\n",
       "    }\n",
       "</style>\n",
       "<table border=\"1\" class=\"dataframe\">\n",
       "  <thead>\n",
       "    <tr style=\"text-align: right;\">\n",
       "      <th></th>\n",
       "      <th>Código</th>\n",
       "      <th>Nome</th>\n",
       "      <th>Link</th>\n",
       "    </tr>\n",
       "  </thead>\n",
       "  <tbody>\n",
       "    <tr>\n",
       "      <th>0</th>\n",
       "      <td>000000003</td>\n",
       "      <td>RAFAEL LIMA CORDEIRO</td>\n",
       "      <td>https://drive.google.com/uc?export=download&amp;id...</td>\n",
       "    </tr>\n",
       "    <tr>\n",
       "      <th>1</th>\n",
       "      <td>120151037</td>\n",
       "      <td>Maria Edvânia Silva Marques</td>\n",
       "      <td>https://drive.google.com/uc?export=download&amp;id...</td>\n",
       "    </tr>\n",
       "    <tr>\n",
       "      <th>2</th>\n",
       "      <td>120182026</td>\n",
       "      <td>Marcio Rogerio da Silva</td>\n",
       "      <td>https://drive.google.com/uc?export=download&amp;id...</td>\n",
       "    </tr>\n",
       "    <tr>\n",
       "      <th>3</th>\n",
       "      <td>1220161012</td>\n",
       "      <td>Laíza dos Santos Cavalcante</td>\n",
       "      <td>https://drive.google.com/uc?export=download&amp;id...</td>\n",
       "    </tr>\n",
       "    <tr>\n",
       "      <th>4</th>\n",
       "      <td>1220161017</td>\n",
       "      <td>Thiago Conceição Costa</td>\n",
       "      <td>https://drive.google.com/uc?export=download&amp;id...</td>\n",
       "    </tr>\n",
       "  </tbody>\n",
       "</table>\n",
       "</div>"
      ],
      "text/plain": [
       "       Código                         Nome  \\\n",
       "0   000000003         RAFAEL LIMA CORDEIRO   \n",
       "1   120151037  Maria Edvânia Silva Marques   \n",
       "2   120182026      Marcio Rogerio da Silva   \n",
       "3  1220161012  Laíza dos Santos Cavalcante   \n",
       "4  1220161017       Thiago Conceição Costa   \n",
       "\n",
       "                                                Link  \n",
       "0  https://drive.google.com/uc?export=download&id...  \n",
       "1  https://drive.google.com/uc?export=download&id...  \n",
       "2  https://drive.google.com/uc?export=download&id...  \n",
       "3  https://drive.google.com/uc?export=download&id...  \n",
       "4  https://drive.google.com/uc?export=download&id...  "
      ]
     },
     "execution_count": 7,
     "metadata": {},
     "output_type": "execute_result"
    }
   ],
   "source": [
    "fotos = pd.DataFrame({'Código': codigos, \"Nome\": nomes, \"Link\": links}, index=None)\n",
    "fotos.Link = fotos.Link.str.replace(\"open\\?\", \"uc?export=download&\")\n",
    "fotos.head()"
   ]
  },
  {
   "cell_type": "code",
   "execution_count": 8,
   "metadata": {
    "ExecuteTime": {
     "end_time": "2019-08-28T14:03:16.432400Z",
     "start_time": "2019-08-28T14:03:16.296533Z"
    }
   },
   "outputs": [],
   "source": [
    "fotos.to_csv(r\"G:\\Meu Drive\\J23_MNGT\\03_Alunos\\Fotos.csv\", index=False)"
   ]
  },
  {
   "cell_type": "code",
   "execution_count": null,
   "metadata": {},
   "outputs": [],
   "source": [
    "planilhas = []\n",
    "for l in lista:\n",
    "    t0 = f\"'{l['id']}' in parents\"\n",
    "    files = searchFile(1000, t0)\n",
    "    for file in files:\n",
    "        planilhas.append(keep_file(file))"
   ]
  },
  {
   "cell_type": "code",
   "execution_count": null,
   "metadata": {},
   "outputs": [],
   "source": [
    "print(file['name'])\n",
    "drive_service.permissions().list(fileId='1Iphkrw9VEphiGW-Xamlqmzdz2EFSmGPM').execute()"
   ]
  },
  {
   "cell_type": "code",
   "execution_count": null,
   "metadata": {},
   "outputs": [],
   "source": [
    "body = {'type': 'domain',\n",
    "              'role': 'writer',\n",
    "              'domain': 'cidadaopromundo.org',\n",
    "              'allowFileDiscovery': True}\n",
    "\n",
    "for f in planilhas:    \n",
    "    print(f['name'], f['link'])\n",
    "    #dict_permissions = drive_service.permissions().list(fileId=f['id']).execute()\n",
    "    #for perm in dict_permissions['permissions']:\n",
    "    #    drive_service.permissions().delete(fileId=f['id'], permissionId = perm['id']).execute()\n",
    "    #break\n",
    "    drive_service.permissions().create(fileId=f['id'], \n",
    "        body=body).execute()"
   ]
  },
  {
   "cell_type": "code",
   "execution_count": null,
   "metadata": {},
   "outputs": [],
   "source": [
    "planilhas"
   ]
  },
  {
   "cell_type": "code",
   "execution_count": null,
   "metadata": {},
   "outputs": [],
   "source": [
    "extra_types = {}\n",
    "\n",
    "types = [\"Extra\", \"Grammar\", \"Project\", \"Vocabulary\", \"Writing\"]\n",
    "for t in types:\n",
    "    extras = {}\n",
    "    for f in files:\n",
    "        if t in f['name'] and \".pdf\" in f[\"name\"]:\n",
    "            if f['name'] not in extras:\n",
    "                extras[f['name']] = \"https://drive.google.com/open?id=\"+f['id']\n",
    "                \n",
    "    extra_types[t] = extras"
   ]
  },
  {
   "cell_type": "code",
   "execution_count": null,
   "metadata": {
    "scrolled": true
   },
   "outputs": [],
   "source": [
    "#extras = sorted(tuple(extras.items()), key=lambda x: x[0])\n",
    "for t,v in extra_types.items():\n",
    "    print(t)\n",
    "    tupla = sorted(tuple(v.items()), key=lambda x: x[0])\n",
    "    for value in tupla:\n",
    "        print(value[1])"
   ]
  },
  {
   "cell_type": "code",
   "execution_count": null,
   "metadata": {},
   "outputs": [],
   "source": []
  }
 ],
 "metadata": {
  "jupytext": {
   "text_representation": {
    "extension": ".py",
    "format_name": "light",
    "format_version": "1.3",
    "jupytext_version": "0.8.6"
   }
  },
  "kernelspec": {
   "display_name": "Python [conda env:drive]",
   "language": "python",
   "name": "conda-env-drive-py"
  },
  "language_info": {
   "codemirror_mode": {
    "name": "ipython",
    "version": 3
   },
   "file_extension": ".py",
   "mimetype": "text/x-python",
   "name": "python",
   "nbconvert_exporter": "python",
   "pygments_lexer": "ipython3",
   "version": "3.7.1"
  },
  "nbTranslate": {
   "displayLangs": [
    "*"
   ],
   "hotkey": "alt-t",
   "langInMainMenu": true,
   "sourceLang": "en",
   "targetLang": "pt",
   "useGoogleTranslate": true
  },
  "toc": {
   "base_numbering": 1,
   "nav_menu": {},
   "number_sections": true,
   "sideBar": true,
   "skip_h1_title": false,
   "title_cell": "Table of Contents",
   "title_sidebar": "Contents",
   "toc_cell": false,
   "toc_position": {},
   "toc_section_display": true,
   "toc_window_display": false
  },
  "varInspector": {
   "cols": {
    "lenName": 16,
    "lenType": 16,
    "lenVar": 40
   },
   "kernels_config": {
    "python": {
     "delete_cmd_postfix": "",
     "delete_cmd_prefix": "del ",
     "library": "var_list.py",
     "varRefreshCmd": "print(var_dic_list())"
    },
    "r": {
     "delete_cmd_postfix": ") ",
     "delete_cmd_prefix": "rm(",
     "library": "var_list.r",
     "varRefreshCmd": "cat(var_dic_list()) "
    }
   },
   "types_to_exclude": [
    "module",
    "function",
    "builtin_function_or_method",
    "instance",
    "_Feature"
   ],
   "window_display": false
  }
 },
 "nbformat": 4,
 "nbformat_minor": 2
}
