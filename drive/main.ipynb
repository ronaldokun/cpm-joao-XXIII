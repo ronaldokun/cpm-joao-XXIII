{
 "cells": [
  {
   "cell_type": "code",
   "execution_count": null,
   "metadata": {},
   "outputs": [],
   "source": [
    "from __future__ import print_function\n",
    "import httplib2\n",
    "import os, io"
   ]
  },
  {
   "cell_type": "code",
   "execution_count": null,
   "metadata": {},
   "outputs": [],
   "source": [
    "import pickle\n",
    "import os.path\n",
    "from googleapiclient.discovery import build\n",
    "from google_auth_oauthlib.flow import InstalledAppFlow\n",
    "from google.auth.transport.requests import Request"
   ]
  },
  {
   "cell_type": "code",
   "execution_count": null,
   "metadata": {},
   "outputs": [],
   "source": [
    "from googleapiclient.http import MediaFileUpload, MediaIoBaseDownload\n",
    "import auth"
   ]
  },
  {
   "cell_type": "code",
   "execution_count": null,
   "metadata": {},
   "outputs": [],
   "source": [
    "# If modifying these scopes, delete your previously saved credentials\n",
    "# at ~/.credentials/drive-python-quickstart.json\n",
    "SCOPES = \"https://www.googleapis.com/auth/drive\"\n",
    "CLIENT_SECRET_FILE = \"drive_joao23.json\"\n",
    "APPLICATION_NAME = \"Drive API Python\"\n",
    "authInst = auth.auth(SCOPES, CLIENT_SECRET_FILE, APPLICATION_NAME)\n",
    "drive_service = authInst.getCredentials()"
   ]
  },
  {
   "cell_type": "markdown",
   "metadata": {
    "lines_to_next_cell": 2
   },
   "source": [
    "http = credentials.authorize(httplib2.Http())\n",
    "drive_service = build('drive', 'v3', http=credentials)"
   ]
  },
  {
   "cell_type": "code",
   "execution_count": null,
   "metadata": {
    "lines_to_next_cell": 2
   },
   "outputs": [],
   "source": [
    "def listFiles(size):\n",
    "    results = (\n",
    "        drive_service.files()\n",
    "        .list(pageSize=size, fields=\"nextPageToken, files(id, name)\")\n",
    "        .execute()\n",
    "    )\n",
    "    items = results.get(\"files\", [])\n",
    "    if not items:\n",
    "        print(\"No files found.\")\n",
    "    else:\n",
    "        print(\"Files:\")\n",
    "    for item in items:\n",
    "        print(\"{0} ({1})\".format(item[\"name\"], item[\"id\"]))"
   ]
  },
  {
   "cell_type": "code",
   "execution_count": null,
   "metadata": {
    "lines_to_next_cell": 2
   },
   "outputs": [],
   "source": [
    "def uploadFile(filename, filepath, mimetype):\n",
    "    file_metadata = {\"name\": filename}\n",
    "    media = MediaFileUpload(filepath, mimetype=mimetype)\n",
    "    file = (\n",
    "        drive_service.files()\n",
    "        .create(body=file_metadata, media_body=media, fields=\"id\")\n",
    "        .execute()\n",
    "    )\n",
    "    print(\"File ID: %s\" % file.get(\"id\"))"
   ]
  },
  {
   "cell_type": "code",
   "execution_count": null,
   "metadata": {
    "lines_to_next_cell": 2
   },
   "outputs": [],
   "source": [
    "def downloadFile(file_id, filepath):\n",
    "    request = drive_service.files().get_media(fileId=file_id)\n",
    "    fh = io.BytesIO()\n",
    "    downloader = MediaIoBaseDownload(fh, request)\n",
    "    done = False\n",
    "    while done is False:\n",
    "        status, done = downloader.next_chunk()\n",
    "        print(\"Download %d%%.\" % int(status.progress() * 100))\n",
    "    with io.open(filepath, \"wb\") as f:\n",
    "        fh.seek(0)\n",
    "        f.write(fh.read())"
   ]
  },
  {
   "cell_type": "code",
   "execution_count": null,
   "metadata": {
    "lines_to_next_cell": 2
   },
   "outputs": [],
   "source": [
    "def createFolder(name):\n",
    "    file_metadata = {\"name\": name, \"mimeType\": \"application/vnd.google-apps.folder\"}\n",
    "    file = drive_service.files().create(body=file_metadata, fields=\"id\").execute()\n",
    "    print(\"Folder ID: %s\" % file.get(\"id\"))"
   ]
  },
  {
   "cell_type": "code",
   "execution_count": null,
   "metadata": {
    "lines_to_next_cell": 2
   },
   "outputs": [],
   "source": [
    "def searchFile(size, query):\n",
    "    results = (\n",
    "        drive_service.files()\n",
    "        .list(\n",
    "            pageSize=size,\n",
    "            fields=\"nextPageToken, files(id, name, kind, mimeType)\",\n",
    "            q=query,\n",
    "        )\n",
    "        .execute()\n",
    "    )\n",
    "    items = results.get(\"files\", [])\n",
    "    if not items:\n",
    "        print(\"No files found.\")\n",
    "    else:\n",
    "        print(len(items))\n",
    "        return items"
   ]
  },
  {
   "cell_type": "code",
   "execution_count": null,
   "metadata": {
    "lines_to_next_cell": 2
   },
   "outputs": [],
   "source": [
    "# uploadFile('unnamed.jpg','unnamed.jpg','image/jpeg')\n",
    "# downloadFile('1Knxs5kRAMnoH5fivGeNsdrj_SIgLiqzV','google.jpg')\n",
    "# createFolder('Google')\n",
    "searchFile(100, \"mimeType contains 'image'\")"
   ]
  }
 ],
 "metadata": {
  "jupytext": {
   "main_language": "python",
   "text_representation": {
    "extension": ".py",
    "format_name": "light"
   }
  },
  "kernelspec": {
   "display_name": "Python 3",
   "language": "python",
   "name": "python3"
  },
  "language_info": {
   "codemirror_mode": {
    "name": "ipython",
    "version": 3
   },
   "file_extension": ".py",
   "mimetype": "text/x-python",
   "name": "python",
   "nbconvert_exporter": "python",
   "pygments_lexer": "ipython3",
   "version": "3.7.1"
  },
  "nbTranslate": {
   "displayLangs": [
    "*"
   ],
   "hotkey": "alt-t",
   "langInMainMenu": true,
   "sourceLang": "en",
   "targetLang": "pt",
   "useGoogleTranslate": true
  },
  "toc": {
   "base_numbering": 1,
   "nav_menu": {},
   "number_sections": true,
   "sideBar": true,
   "skip_h1_title": false,
   "title_cell": "Table of Contents",
   "title_sidebar": "Contents",
   "toc_cell": false,
   "toc_position": {},
   "toc_section_display": true,
   "toc_window_display": false
  },
  "varInspector": {
   "cols": {
    "lenName": 16,
    "lenType": 16,
    "lenVar": 40
   },
   "kernels_config": {
    "python": {
     "delete_cmd_postfix": "",
     "delete_cmd_prefix": "del ",
     "library": "var_list.py",
     "varRefreshCmd": "print(var_dic_list())"
    },
    "r": {
     "delete_cmd_postfix": ") ",
     "delete_cmd_prefix": "rm(",
     "library": "var_list.r",
     "varRefreshCmd": "cat(var_dic_list()) "
    }
   },
   "types_to_exclude": [
    "module",
    "function",
    "builtin_function_or_method",
    "instance",
    "_Feature"
   ],
   "window_display": true
  }
 },
 "nbformat": 4,
 "nbformat_minor": 2
}
